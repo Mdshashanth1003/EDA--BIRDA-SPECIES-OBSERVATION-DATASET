{
  "nbformat": 4,
  "nbformat_minor": 0,
  "metadata": {
    "colab": {
      "provenance": [],
      "authorship_tag": "ABX9TyPlFKd6UhfIHzdEOeWmBHwm",
      "include_colab_link": true
    },
    "kernelspec": {
      "name": "python3",
      "display_name": "Python 3"
    },
    "language_info": {
      "name": "python"
    }
  },
  "cells": [
    {
      "cell_type": "markdown",
      "metadata": {
        "id": "view-in-github",
        "colab_type": "text"
      },
      "source": [
        "<a href=\"https://colab.research.google.com/github/Mdshashanth1003/EDA--BIRDA-SPECIES-OBSERVATION-DATASET/blob/main/Project2_Grassland.ipynb\" target=\"_parent\"><img src=\"https://colab.research.google.com/assets/colab-badge.svg\" alt=\"Open In Colab\"/></a>"
      ]
    },
    {
      "cell_type": "code",
      "execution_count": 1,
      "metadata": {
        "id": "d7H-Mh5fF1-N"
      },
      "outputs": [],
      "source": [
        "import numpy as np\n",
        "import pandas as pd\n",
        "import matplotlib.pyplot as plt\n",
        "import seaborn as sns"
      ]
    },
    {
      "cell_type": "code",
      "source": [
        "from google.colab import files\n",
        "uploaded = files.upload()"
      ],
      "metadata": {
        "colab": {
          "base_uri": "https://localhost:8080/",
          "height": 73
        },
        "id": "q8FD3dMmWjQ0",
        "outputId": "652d1a27-857b-4ba2-8667-f493b1c23b7f"
      },
      "execution_count": 7,
      "outputs": [
        {
          "output_type": "display_data",
          "data": {
            "text/plain": [
              "<IPython.core.display.HTML object>"
            ],
            "text/html": [
              "\n",
              "     <input type=\"file\" id=\"files-e97a1fac-4ec3-4de6-8ea2-906ef6add96f\" name=\"files[]\" multiple disabled\n",
              "        style=\"border:none\" />\n",
              "     <output id=\"result-e97a1fac-4ec3-4de6-8ea2-906ef6add96f\">\n",
              "      Upload widget is only available when the cell has been executed in the\n",
              "      current browser session. Please rerun this cell to enable.\n",
              "      </output>\n",
              "      <script>// Copyright 2017 Google LLC\n",
              "//\n",
              "// Licensed under the Apache License, Version 2.0 (the \"License\");\n",
              "// you may not use this file except in compliance with the License.\n",
              "// You may obtain a copy of the License at\n",
              "//\n",
              "//      http://www.apache.org/licenses/LICENSE-2.0\n",
              "//\n",
              "// Unless required by applicable law or agreed to in writing, software\n",
              "// distributed under the License is distributed on an \"AS IS\" BASIS,\n",
              "// WITHOUT WARRANTIES OR CONDITIONS OF ANY KIND, either express or implied.\n",
              "// See the License for the specific language governing permissions and\n",
              "// limitations under the License.\n",
              "\n",
              "/**\n",
              " * @fileoverview Helpers for google.colab Python module.\n",
              " */\n",
              "(function(scope) {\n",
              "function span(text, styleAttributes = {}) {\n",
              "  const element = document.createElement('span');\n",
              "  element.textContent = text;\n",
              "  for (const key of Object.keys(styleAttributes)) {\n",
              "    element.style[key] = styleAttributes[key];\n",
              "  }\n",
              "  return element;\n",
              "}\n",
              "\n",
              "// Max number of bytes which will be uploaded at a time.\n",
              "const MAX_PAYLOAD_SIZE = 100 * 1024;\n",
              "\n",
              "function _uploadFiles(inputId, outputId) {\n",
              "  const steps = uploadFilesStep(inputId, outputId);\n",
              "  const outputElement = document.getElementById(outputId);\n",
              "  // Cache steps on the outputElement to make it available for the next call\n",
              "  // to uploadFilesContinue from Python.\n",
              "  outputElement.steps = steps;\n",
              "\n",
              "  return _uploadFilesContinue(outputId);\n",
              "}\n",
              "\n",
              "// This is roughly an async generator (not supported in the browser yet),\n",
              "// where there are multiple asynchronous steps and the Python side is going\n",
              "// to poll for completion of each step.\n",
              "// This uses a Promise to block the python side on completion of each step,\n",
              "// then passes the result of the previous step as the input to the next step.\n",
              "function _uploadFilesContinue(outputId) {\n",
              "  const outputElement = document.getElementById(outputId);\n",
              "  const steps = outputElement.steps;\n",
              "\n",
              "  const next = steps.next(outputElement.lastPromiseValue);\n",
              "  return Promise.resolve(next.value.promise).then((value) => {\n",
              "    // Cache the last promise value to make it available to the next\n",
              "    // step of the generator.\n",
              "    outputElement.lastPromiseValue = value;\n",
              "    return next.value.response;\n",
              "  });\n",
              "}\n",
              "\n",
              "/**\n",
              " * Generator function which is called between each async step of the upload\n",
              " * process.\n",
              " * @param {string} inputId Element ID of the input file picker element.\n",
              " * @param {string} outputId Element ID of the output display.\n",
              " * @return {!Iterable<!Object>} Iterable of next steps.\n",
              " */\n",
              "function* uploadFilesStep(inputId, outputId) {\n",
              "  const inputElement = document.getElementById(inputId);\n",
              "  inputElement.disabled = false;\n",
              "\n",
              "  const outputElement = document.getElementById(outputId);\n",
              "  outputElement.innerHTML = '';\n",
              "\n",
              "  const pickedPromise = new Promise((resolve) => {\n",
              "    inputElement.addEventListener('change', (e) => {\n",
              "      resolve(e.target.files);\n",
              "    });\n",
              "  });\n",
              "\n",
              "  const cancel = document.createElement('button');\n",
              "  inputElement.parentElement.appendChild(cancel);\n",
              "  cancel.textContent = 'Cancel upload';\n",
              "  const cancelPromise = new Promise((resolve) => {\n",
              "    cancel.onclick = () => {\n",
              "      resolve(null);\n",
              "    };\n",
              "  });\n",
              "\n",
              "  // Wait for the user to pick the files.\n",
              "  const files = yield {\n",
              "    promise: Promise.race([pickedPromise, cancelPromise]),\n",
              "    response: {\n",
              "      action: 'starting',\n",
              "    }\n",
              "  };\n",
              "\n",
              "  cancel.remove();\n",
              "\n",
              "  // Disable the input element since further picks are not allowed.\n",
              "  inputElement.disabled = true;\n",
              "\n",
              "  if (!files) {\n",
              "    return {\n",
              "      response: {\n",
              "        action: 'complete',\n",
              "      }\n",
              "    };\n",
              "  }\n",
              "\n",
              "  for (const file of files) {\n",
              "    const li = document.createElement('li');\n",
              "    li.append(span(file.name, {fontWeight: 'bold'}));\n",
              "    li.append(span(\n",
              "        `(${file.type || 'n/a'}) - ${file.size} bytes, ` +\n",
              "        `last modified: ${\n",
              "            file.lastModifiedDate ? file.lastModifiedDate.toLocaleDateString() :\n",
              "                                    'n/a'} - `));\n",
              "    const percent = span('0% done');\n",
              "    li.appendChild(percent);\n",
              "\n",
              "    outputElement.appendChild(li);\n",
              "\n",
              "    const fileDataPromise = new Promise((resolve) => {\n",
              "      const reader = new FileReader();\n",
              "      reader.onload = (e) => {\n",
              "        resolve(e.target.result);\n",
              "      };\n",
              "      reader.readAsArrayBuffer(file);\n",
              "    });\n",
              "    // Wait for the data to be ready.\n",
              "    let fileData = yield {\n",
              "      promise: fileDataPromise,\n",
              "      response: {\n",
              "        action: 'continue',\n",
              "      }\n",
              "    };\n",
              "\n",
              "    // Use a chunked sending to avoid message size limits. See b/62115660.\n",
              "    let position = 0;\n",
              "    do {\n",
              "      const length = Math.min(fileData.byteLength - position, MAX_PAYLOAD_SIZE);\n",
              "      const chunk = new Uint8Array(fileData, position, length);\n",
              "      position += length;\n",
              "\n",
              "      const base64 = btoa(String.fromCharCode.apply(null, chunk));\n",
              "      yield {\n",
              "        response: {\n",
              "          action: 'append',\n",
              "          file: file.name,\n",
              "          data: base64,\n",
              "        },\n",
              "      };\n",
              "\n",
              "      let percentDone = fileData.byteLength === 0 ?\n",
              "          100 :\n",
              "          Math.round((position / fileData.byteLength) * 100);\n",
              "      percent.textContent = `${percentDone}% done`;\n",
              "\n",
              "    } while (position < fileData.byteLength);\n",
              "  }\n",
              "\n",
              "  // All done.\n",
              "  yield {\n",
              "    response: {\n",
              "      action: 'complete',\n",
              "    }\n",
              "  };\n",
              "}\n",
              "\n",
              "scope.google = scope.google || {};\n",
              "scope.google.colab = scope.google.colab || {};\n",
              "scope.google.colab._files = {\n",
              "  _uploadFiles,\n",
              "  _uploadFilesContinue,\n",
              "};\n",
              "})(self);\n",
              "</script> "
            ]
          },
          "metadata": {}
        },
        {
          "output_type": "stream",
          "name": "stdout",
          "text": [
            "Saving Bird_Monitoring_Data_GRASSLAND (1) (1).XLSX to Bird_Monitoring_Data_GRASSLAND (1) (1) (1).XLSX\n"
          ]
        }
      ]
    },
    {
      "cell_type": "code",
      "source": [
        "import pandas as pd\n",
        "\n",
        "# Replace with your exact filename if different\n",
        "df = pd.read_excel(\"/content/Bird_Monitoring_Data_GRASSLAND (1) (1) (1).XLSX\")\n",
        "df.head()"
      ],
      "metadata": {
        "colab": {
          "base_uri": "https://localhost:8080/",
          "height": 776
        },
        "id": "8FFSQJ3tWoFF",
        "outputId": "9041e11c-16ed-4350-e5c8-94a40f97504d"
      },
      "execution_count": 14,
      "outputs": [
        {
          "output_type": "execute_result",
          "data": {
            "text/plain": [
              "  Admin_Unit_Code  Sub_Unit_Code  Plot_Name Location_Type  Year       Date  \\\n",
              "0            ANTI            NaN  ANTI-0054     Grassland  2018 2018-05-22   \n",
              "1            ANTI            NaN  ANTI-0054     Grassland  2018 2018-05-22   \n",
              "2            ANTI            NaN  ANTI-0054     Grassland  2018 2018-05-22   \n",
              "3            ANTI            NaN  ANTI-0054     Grassland  2018 2018-05-22   \n",
              "4            ANTI            NaN  ANTI-0054     Grassland  2018 2018-05-22   \n",
              "\n",
              "  Start_Time  End_Time          Observer  Visit  ... AOU_Code  \\\n",
              "0   05:35:00  05:45:00  Elizabeth Oswald      1  ...     CHSP   \n",
              "1   05:35:00  05:45:00  Elizabeth Oswald      1  ...     EABL   \n",
              "2   05:35:00  05:45:00  Elizabeth Oswald      1  ...     GRSP   \n",
              "3   05:35:00  05:45:00  Elizabeth Oswald      1  ...     EABL   \n",
              "4   05:35:00  05:45:00  Elizabeth Oswald      1  ...     FISP   \n",
              "\n",
              "  PIF_Watchlist_Status Regional_Stewardship_Status  Temperature Humidity  \\\n",
              "0                False                       False         20.0     79.0   \n",
              "1                False                       False         20.0     79.0   \n",
              "2                False                       False         20.0     79.0   \n",
              "3                False                       False         20.0     79.0   \n",
              "4                False                        True         20.0     79.0   \n",
              "\n",
              "               Sky                                      Wind  \\\n",
              "0  Cloudy/Overcast  Light breeze (4-7 mph) wind felt on face   \n",
              "1  Cloudy/Overcast  Light breeze (4-7 mph) wind felt on face   \n",
              "2  Cloudy/Overcast  Light breeze (4-7 mph) wind felt on face   \n",
              "3  Cloudy/Overcast  Light breeze (4-7 mph) wind felt on face   \n",
              "4  Cloudy/Overcast  Light breeze (4-7 mph) wind felt on face   \n",
              "\n",
              "              Disturbance  Previously_Obs Initial_Three_Min_Cnt  \n",
              "0  Slight effect on count           False                  True  \n",
              "1  Slight effect on count           False                 False  \n",
              "2  Slight effect on count           False                  True  \n",
              "3  Slight effect on count           False                  True  \n",
              "4  Slight effect on count           False                  True  \n",
              "\n",
              "[5 rows x 29 columns]"
            ],
            "text/html": [
              "\n",
              "  <div id=\"df-7bdd8c74-0ecd-4f80-bfcc-87fb2b8395b0\" class=\"colab-df-container\">\n",
              "    <div>\n",
              "<style scoped>\n",
              "    .dataframe tbody tr th:only-of-type {\n",
              "        vertical-align: middle;\n",
              "    }\n",
              "\n",
              "    .dataframe tbody tr th {\n",
              "        vertical-align: top;\n",
              "    }\n",
              "\n",
              "    .dataframe thead th {\n",
              "        text-align: right;\n",
              "    }\n",
              "</style>\n",
              "<table border=\"1\" class=\"dataframe\">\n",
              "  <thead>\n",
              "    <tr style=\"text-align: right;\">\n",
              "      <th></th>\n",
              "      <th>Admin_Unit_Code</th>\n",
              "      <th>Sub_Unit_Code</th>\n",
              "      <th>Plot_Name</th>\n",
              "      <th>Location_Type</th>\n",
              "      <th>Year</th>\n",
              "      <th>Date</th>\n",
              "      <th>Start_Time</th>\n",
              "      <th>End_Time</th>\n",
              "      <th>Observer</th>\n",
              "      <th>Visit</th>\n",
              "      <th>...</th>\n",
              "      <th>AOU_Code</th>\n",
              "      <th>PIF_Watchlist_Status</th>\n",
              "      <th>Regional_Stewardship_Status</th>\n",
              "      <th>Temperature</th>\n",
              "      <th>Humidity</th>\n",
              "      <th>Sky</th>\n",
              "      <th>Wind</th>\n",
              "      <th>Disturbance</th>\n",
              "      <th>Previously_Obs</th>\n",
              "      <th>Initial_Three_Min_Cnt</th>\n",
              "    </tr>\n",
              "  </thead>\n",
              "  <tbody>\n",
              "    <tr>\n",
              "      <th>0</th>\n",
              "      <td>ANTI</td>\n",
              "      <td>NaN</td>\n",
              "      <td>ANTI-0054</td>\n",
              "      <td>Grassland</td>\n",
              "      <td>2018</td>\n",
              "      <td>2018-05-22</td>\n",
              "      <td>05:35:00</td>\n",
              "      <td>05:45:00</td>\n",
              "      <td>Elizabeth Oswald</td>\n",
              "      <td>1</td>\n",
              "      <td>...</td>\n",
              "      <td>CHSP</td>\n",
              "      <td>False</td>\n",
              "      <td>False</td>\n",
              "      <td>20.0</td>\n",
              "      <td>79.0</td>\n",
              "      <td>Cloudy/Overcast</td>\n",
              "      <td>Light breeze (4-7 mph) wind felt on face</td>\n",
              "      <td>Slight effect on count</td>\n",
              "      <td>False</td>\n",
              "      <td>True</td>\n",
              "    </tr>\n",
              "    <tr>\n",
              "      <th>1</th>\n",
              "      <td>ANTI</td>\n",
              "      <td>NaN</td>\n",
              "      <td>ANTI-0054</td>\n",
              "      <td>Grassland</td>\n",
              "      <td>2018</td>\n",
              "      <td>2018-05-22</td>\n",
              "      <td>05:35:00</td>\n",
              "      <td>05:45:00</td>\n",
              "      <td>Elizabeth Oswald</td>\n",
              "      <td>1</td>\n",
              "      <td>...</td>\n",
              "      <td>EABL</td>\n",
              "      <td>False</td>\n",
              "      <td>False</td>\n",
              "      <td>20.0</td>\n",
              "      <td>79.0</td>\n",
              "      <td>Cloudy/Overcast</td>\n",
              "      <td>Light breeze (4-7 mph) wind felt on face</td>\n",
              "      <td>Slight effect on count</td>\n",
              "      <td>False</td>\n",
              "      <td>False</td>\n",
              "    </tr>\n",
              "    <tr>\n",
              "      <th>2</th>\n",
              "      <td>ANTI</td>\n",
              "      <td>NaN</td>\n",
              "      <td>ANTI-0054</td>\n",
              "      <td>Grassland</td>\n",
              "      <td>2018</td>\n",
              "      <td>2018-05-22</td>\n",
              "      <td>05:35:00</td>\n",
              "      <td>05:45:00</td>\n",
              "      <td>Elizabeth Oswald</td>\n",
              "      <td>1</td>\n",
              "      <td>...</td>\n",
              "      <td>GRSP</td>\n",
              "      <td>False</td>\n",
              "      <td>False</td>\n",
              "      <td>20.0</td>\n",
              "      <td>79.0</td>\n",
              "      <td>Cloudy/Overcast</td>\n",
              "      <td>Light breeze (4-7 mph) wind felt on face</td>\n",
              "      <td>Slight effect on count</td>\n",
              "      <td>False</td>\n",
              "      <td>True</td>\n",
              "    </tr>\n",
              "    <tr>\n",
              "      <th>3</th>\n",
              "      <td>ANTI</td>\n",
              "      <td>NaN</td>\n",
              "      <td>ANTI-0054</td>\n",
              "      <td>Grassland</td>\n",
              "      <td>2018</td>\n",
              "      <td>2018-05-22</td>\n",
              "      <td>05:35:00</td>\n",
              "      <td>05:45:00</td>\n",
              "      <td>Elizabeth Oswald</td>\n",
              "      <td>1</td>\n",
              "      <td>...</td>\n",
              "      <td>EABL</td>\n",
              "      <td>False</td>\n",
              "      <td>False</td>\n",
              "      <td>20.0</td>\n",
              "      <td>79.0</td>\n",
              "      <td>Cloudy/Overcast</td>\n",
              "      <td>Light breeze (4-7 mph) wind felt on face</td>\n",
              "      <td>Slight effect on count</td>\n",
              "      <td>False</td>\n",
              "      <td>True</td>\n",
              "    </tr>\n",
              "    <tr>\n",
              "      <th>4</th>\n",
              "      <td>ANTI</td>\n",
              "      <td>NaN</td>\n",
              "      <td>ANTI-0054</td>\n",
              "      <td>Grassland</td>\n",
              "      <td>2018</td>\n",
              "      <td>2018-05-22</td>\n",
              "      <td>05:35:00</td>\n",
              "      <td>05:45:00</td>\n",
              "      <td>Elizabeth Oswald</td>\n",
              "      <td>1</td>\n",
              "      <td>...</td>\n",
              "      <td>FISP</td>\n",
              "      <td>False</td>\n",
              "      <td>True</td>\n",
              "      <td>20.0</td>\n",
              "      <td>79.0</td>\n",
              "      <td>Cloudy/Overcast</td>\n",
              "      <td>Light breeze (4-7 mph) wind felt on face</td>\n",
              "      <td>Slight effect on count</td>\n",
              "      <td>False</td>\n",
              "      <td>True</td>\n",
              "    </tr>\n",
              "  </tbody>\n",
              "</table>\n",
              "<p>5 rows × 29 columns</p>\n",
              "</div>\n",
              "    <div class=\"colab-df-buttons\">\n",
              "\n",
              "  <div class=\"colab-df-container\">\n",
              "    <button class=\"colab-df-convert\" onclick=\"convertToInteractive('df-7bdd8c74-0ecd-4f80-bfcc-87fb2b8395b0')\"\n",
              "            title=\"Convert this dataframe to an interactive table.\"\n",
              "            style=\"display:none;\">\n",
              "\n",
              "  <svg xmlns=\"http://www.w3.org/2000/svg\" height=\"24px\" viewBox=\"0 -960 960 960\">\n",
              "    <path d=\"M120-120v-720h720v720H120Zm60-500h600v-160H180v160Zm220 220h160v-160H400v160Zm0 220h160v-160H400v160ZM180-400h160v-160H180v160Zm440 0h160v-160H620v160ZM180-180h160v-160H180v160Zm440 0h160v-160H620v160Z\"/>\n",
              "  </svg>\n",
              "    </button>\n",
              "\n",
              "  <style>\n",
              "    .colab-df-container {\n",
              "      display:flex;\n",
              "      gap: 12px;\n",
              "    }\n",
              "\n",
              "    .colab-df-convert {\n",
              "      background-color: #E8F0FE;\n",
              "      border: none;\n",
              "      border-radius: 50%;\n",
              "      cursor: pointer;\n",
              "      display: none;\n",
              "      fill: #1967D2;\n",
              "      height: 32px;\n",
              "      padding: 0 0 0 0;\n",
              "      width: 32px;\n",
              "    }\n",
              "\n",
              "    .colab-df-convert:hover {\n",
              "      background-color: #E2EBFA;\n",
              "      box-shadow: 0px 1px 2px rgba(60, 64, 67, 0.3), 0px 1px 3px 1px rgba(60, 64, 67, 0.15);\n",
              "      fill: #174EA6;\n",
              "    }\n",
              "\n",
              "    .colab-df-buttons div {\n",
              "      margin-bottom: 4px;\n",
              "    }\n",
              "\n",
              "    [theme=dark] .colab-df-convert {\n",
              "      background-color: #3B4455;\n",
              "      fill: #D2E3FC;\n",
              "    }\n",
              "\n",
              "    [theme=dark] .colab-df-convert:hover {\n",
              "      background-color: #434B5C;\n",
              "      box-shadow: 0px 1px 3px 1px rgba(0, 0, 0, 0.15);\n",
              "      filter: drop-shadow(0px 1px 2px rgba(0, 0, 0, 0.3));\n",
              "      fill: #FFFFFF;\n",
              "    }\n",
              "  </style>\n",
              "\n",
              "    <script>\n",
              "      const buttonEl =\n",
              "        document.querySelector('#df-7bdd8c74-0ecd-4f80-bfcc-87fb2b8395b0 button.colab-df-convert');\n",
              "      buttonEl.style.display =\n",
              "        google.colab.kernel.accessAllowed ? 'block' : 'none';\n",
              "\n",
              "      async function convertToInteractive(key) {\n",
              "        const element = document.querySelector('#df-7bdd8c74-0ecd-4f80-bfcc-87fb2b8395b0');\n",
              "        const dataTable =\n",
              "          await google.colab.kernel.invokeFunction('convertToInteractive',\n",
              "                                                    [key], {});\n",
              "        if (!dataTable) return;\n",
              "\n",
              "        const docLinkHtml = 'Like what you see? Visit the ' +\n",
              "          '<a target=\"_blank\" href=https://colab.research.google.com/notebooks/data_table.ipynb>data table notebook</a>'\n",
              "          + ' to learn more about interactive tables.';\n",
              "        element.innerHTML = '';\n",
              "        dataTable['output_type'] = 'display_data';\n",
              "        await google.colab.output.renderOutput(dataTable, element);\n",
              "        const docLink = document.createElement('div');\n",
              "        docLink.innerHTML = docLinkHtml;\n",
              "        element.appendChild(docLink);\n",
              "      }\n",
              "    </script>\n",
              "  </div>\n",
              "\n",
              "\n",
              "    <div id=\"df-5321d061-8ccb-4be4-8e3d-f49591d9cef2\">\n",
              "      <button class=\"colab-df-quickchart\" onclick=\"quickchart('df-5321d061-8ccb-4be4-8e3d-f49591d9cef2')\"\n",
              "                title=\"Suggest charts\"\n",
              "                style=\"display:none;\">\n",
              "\n",
              "<svg xmlns=\"http://www.w3.org/2000/svg\" height=\"24px\"viewBox=\"0 0 24 24\"\n",
              "     width=\"24px\">\n",
              "    <g>\n",
              "        <path d=\"M19 3H5c-1.1 0-2 .9-2 2v14c0 1.1.9 2 2 2h14c1.1 0 2-.9 2-2V5c0-1.1-.9-2-2-2zM9 17H7v-7h2v7zm4 0h-2V7h2v10zm4 0h-2v-4h2v4z\"/>\n",
              "    </g>\n",
              "</svg>\n",
              "      </button>\n",
              "\n",
              "<style>\n",
              "  .colab-df-quickchart {\n",
              "      --bg-color: #E8F0FE;\n",
              "      --fill-color: #1967D2;\n",
              "      --hover-bg-color: #E2EBFA;\n",
              "      --hover-fill-color: #174EA6;\n",
              "      --disabled-fill-color: #AAA;\n",
              "      --disabled-bg-color: #DDD;\n",
              "  }\n",
              "\n",
              "  [theme=dark] .colab-df-quickchart {\n",
              "      --bg-color: #3B4455;\n",
              "      --fill-color: #D2E3FC;\n",
              "      --hover-bg-color: #434B5C;\n",
              "      --hover-fill-color: #FFFFFF;\n",
              "      --disabled-bg-color: #3B4455;\n",
              "      --disabled-fill-color: #666;\n",
              "  }\n",
              "\n",
              "  .colab-df-quickchart {\n",
              "    background-color: var(--bg-color);\n",
              "    border: none;\n",
              "    border-radius: 50%;\n",
              "    cursor: pointer;\n",
              "    display: none;\n",
              "    fill: var(--fill-color);\n",
              "    height: 32px;\n",
              "    padding: 0;\n",
              "    width: 32px;\n",
              "  }\n",
              "\n",
              "  .colab-df-quickchart:hover {\n",
              "    background-color: var(--hover-bg-color);\n",
              "    box-shadow: 0 1px 2px rgba(60, 64, 67, 0.3), 0 1px 3px 1px rgba(60, 64, 67, 0.15);\n",
              "    fill: var(--button-hover-fill-color);\n",
              "  }\n",
              "\n",
              "  .colab-df-quickchart-complete:disabled,\n",
              "  .colab-df-quickchart-complete:disabled:hover {\n",
              "    background-color: var(--disabled-bg-color);\n",
              "    fill: var(--disabled-fill-color);\n",
              "    box-shadow: none;\n",
              "  }\n",
              "\n",
              "  .colab-df-spinner {\n",
              "    border: 2px solid var(--fill-color);\n",
              "    border-color: transparent;\n",
              "    border-bottom-color: var(--fill-color);\n",
              "    animation:\n",
              "      spin 1s steps(1) infinite;\n",
              "  }\n",
              "\n",
              "  @keyframes spin {\n",
              "    0% {\n",
              "      border-color: transparent;\n",
              "      border-bottom-color: var(--fill-color);\n",
              "      border-left-color: var(--fill-color);\n",
              "    }\n",
              "    20% {\n",
              "      border-color: transparent;\n",
              "      border-left-color: var(--fill-color);\n",
              "      border-top-color: var(--fill-color);\n",
              "    }\n",
              "    30% {\n",
              "      border-color: transparent;\n",
              "      border-left-color: var(--fill-color);\n",
              "      border-top-color: var(--fill-color);\n",
              "      border-right-color: var(--fill-color);\n",
              "    }\n",
              "    40% {\n",
              "      border-color: transparent;\n",
              "      border-right-color: var(--fill-color);\n",
              "      border-top-color: var(--fill-color);\n",
              "    }\n",
              "    60% {\n",
              "      border-color: transparent;\n",
              "      border-right-color: var(--fill-color);\n",
              "    }\n",
              "    80% {\n",
              "      border-color: transparent;\n",
              "      border-right-color: var(--fill-color);\n",
              "      border-bottom-color: var(--fill-color);\n",
              "    }\n",
              "    90% {\n",
              "      border-color: transparent;\n",
              "      border-bottom-color: var(--fill-color);\n",
              "    }\n",
              "  }\n",
              "</style>\n",
              "\n",
              "      <script>\n",
              "        async function quickchart(key) {\n",
              "          const quickchartButtonEl =\n",
              "            document.querySelector('#' + key + ' button');\n",
              "          quickchartButtonEl.disabled = true;  // To prevent multiple clicks.\n",
              "          quickchartButtonEl.classList.add('colab-df-spinner');\n",
              "          try {\n",
              "            const charts = await google.colab.kernel.invokeFunction(\n",
              "                'suggestCharts', [key], {});\n",
              "          } catch (error) {\n",
              "            console.error('Error during call to suggestCharts:', error);\n",
              "          }\n",
              "          quickchartButtonEl.classList.remove('colab-df-spinner');\n",
              "          quickchartButtonEl.classList.add('colab-df-quickchart-complete');\n",
              "        }\n",
              "        (() => {\n",
              "          let quickchartButtonEl =\n",
              "            document.querySelector('#df-5321d061-8ccb-4be4-8e3d-f49591d9cef2 button');\n",
              "          quickchartButtonEl.style.display =\n",
              "            google.colab.kernel.accessAllowed ? 'block' : 'none';\n",
              "        })();\n",
              "      </script>\n",
              "    </div>\n",
              "\n",
              "    </div>\n",
              "  </div>\n"
            ],
            "application/vnd.google.colaboratory.intrinsic+json": {
              "type": "dataframe",
              "variable_name": "df"
            }
          },
          "metadata": {},
          "execution_count": 14
        }
      ]
    },
    {
      "cell_type": "code",
      "source": [
        "df.shape"
      ],
      "metadata": {
        "colab": {
          "base_uri": "https://localhost:8080/"
        },
        "id": "ooeSKX8uY50k",
        "outputId": "afaac84b-39a2-4507-a098-012f437fc0b0"
      },
      "execution_count": 15,
      "outputs": [
        {
          "output_type": "execute_result",
          "data": {
            "text/plain": [
              "(3588, 29)"
            ]
          },
          "metadata": {},
          "execution_count": 15
        }
      ]
    },
    {
      "cell_type": "markdown",
      "source": [
        "FINDING OUTLIERS"
      ],
      "metadata": {
        "id": "sFJaIDYmZCCs"
      }
    },
    {
      "cell_type": "code",
      "source": [
        "sns.boxplot(df[\"Temperature\"])"
      ],
      "metadata": {
        "colab": {
          "base_uri": "https://localhost:8080/",
          "height": 428
        },
        "id": "aOLqbeORZDIr",
        "outputId": "c899af65-48b0-4618-c76f-7ac670d472ac"
      },
      "execution_count": 16,
      "outputs": [
        {
          "output_type": "execute_result",
          "data": {
            "text/plain": [
              "<Axes: ylabel='Temperature'>"
            ]
          },
          "metadata": {},
          "execution_count": 16
        },
        {
          "output_type": "display_data",
          "data": {
            "text/plain": [
              "<Figure size 640x480 with 1 Axes>"
            ],
            "image/png": "[encoded data removed]"
          },
          "metadata": {}
        }
      ]
    },
    {
      "cell_type": "code",
      "source": [
        "sns.distplot(df[\"Temperature\"])"
      ],
      "metadata": {
        "colab": {
          "base_uri": "https://localhost:8080/",
          "height": 657
        },
        "id": "Zf5Mk33_ZMbi",
        "outputId": "5ca5fdc7-aefe-46c9-fd37-0a46e2d153e8"
      },
      "execution_count": 18,
      "outputs": [
        {
          "output_type": "stream",
          "name": "stderr",
          "text": [
            "<ipython-input-18-b4508da60903>:1: UserWarning: \n",
            "\n",
            "`distplot` is a deprecated function and will be removed in seaborn v0.14.0.\n",
            "\n",
            "Please adapt your code to use either `displot` (a figure-level function with\n",
            "similar flexibility) or `histplot` (an axes-level function for histograms).\n",
            "\n",
            "For a guide to updating your code to use the new functions, please see\n",
            "https://gist.github.com/mwaskom/de44147ed2974457ad6372750bbe5751\n",
            "\n",
            "  sns.distplot(df[\"Temperature\"])\n"
          ]
        },
        {
          "output_type": "execute_result",
          "data": {
            "text/plain": [
              "<Axes: xlabel='Temperature', ylabel='Density'>"
            ]
          },
          "metadata": {},
          "execution_count": 18
        },
        {
          "output_type": "display_data",
          "data": {
            "text/plain": [
              "<Figure size 640x480 with 1 Axes>"
            ],
            "image/png": "[encoded data removed]"
          },
          "metadata": {}
        }
      ]
    },
    {
      "cell_type": "code",
      "source": [
        "sns.boxplot(df[\"Humidity\"])"
      ],
      "metadata": {
        "colab": {
          "base_uri": "https://localhost:8080/",
          "height": 431
        },
        "id": "MxbN0ToKZj9M",
        "outputId": "3d561e31-456d-4b83-d559-c27f519515a5"
      },
      "execution_count": 19,
      "outputs": [
        {
          "output_type": "execute_result",
          "data": {
            "text/plain": [
              "<Axes: ylabel='Humidity'>"
            ]
          },
          "metadata": {},
          "execution_count": 19
        },
        {
          "output_type": "display_data",
          "data": {
            "text/plain": [
              "<Figure size 640x480 with 1 Axes>"
            ],
            "image/png": "[encoded data removed]"
          },
          "metadata": {}
        }
      ]
    },
    {
      "cell_type": "code",
      "source": [
        "sns.distplot(df[\"Humidity\"])"
      ],
      "metadata": {
        "colab": {
          "base_uri": "https://localhost:8080/",
          "height": 657
        },
        "id": "HOwKYgxJZk87",
        "outputId": "c61caf9f-373b-4208-d014-4f74f84e6649"
      },
      "execution_count": 21,
      "outputs": [
        {
          "output_type": "stream",
          "name": "stderr",
          "text": [
            "<ipython-input-21-4e081bf636e1>:1: UserWarning: \n",
            "\n",
            "`distplot` is a deprecated function and will be removed in seaborn v0.14.0.\n",
            "\n",
            "Please adapt your code to use either `displot` (a figure-level function with\n",
            "similar flexibility) or `histplot` (an axes-level function for histograms).\n",
            "\n",
            "For a guide to updating your code to use the new functions, please see\n",
            "https://gist.github.com/mwaskom/de44147ed2974457ad6372750bbe5751\n",
            "\n",
            "  sns.distplot(df[\"Humidity\"])\n"
          ]
        },
        {
          "output_type": "execute_result",
          "data": {
            "text/plain": [
              "<Axes: xlabel='Humidity', ylabel='Density'>"
            ]
          },
          "metadata": {},
          "execution_count": 21
        },
        {
          "output_type": "display_data",
          "data": {
            "text/plain": [
              "<Figure size 640x480 with 1 Axes>"
            ],
            "image/png": "[encoded data removed]"
          },
          "metadata": {}
        }
      ]
    },
    {
      "cell_type": "code",
      "source": [
        "df.info()"
      ],
      "metadata": {
        "colab": {
          "base_uri": "https://localhost:8080/"
        },
        "id": "gsCdSihJZtfb",
        "outputId": "c0162b9f-9727-4194-ffef-475f14676d54"
      },
      "execution_count": 22,
      "outputs": [
        {
          "output_type": "stream",
          "name": "stdout",
          "text": [
            "<class 'pandas.core.frame.DataFrame'>\n",
            "RangeIndex: 3588 entries, 0 to 3587\n",
            "Data columns (total 29 columns):\n",
            " #   Column                       Non-Null Count  Dtype         \n",
            "---  ------                       --------------  -----         \n",
            " 0   Admin_Unit_Code              3588 non-null   object        \n",
            " 1   Sub_Unit_Code                0 non-null      float64       \n",
            " 2   Plot_Name                    3588 non-null   object        \n",
            " 3   Location_Type                3588 non-null   object        \n",
            " 4   Year                         3588 non-null   int64         \n",
            " 5   Date                         3588 non-null   datetime64[ns]\n",
            " 6   Start_Time                   3588 non-null   object        \n",
            " 7   End_Time                     3588 non-null   object        \n",
            " 8   Observer                     3588 non-null   object        \n",
            " 9   Visit                        3588 non-null   int64         \n",
            " 10  Interval_Length              3588 non-null   object        \n",
            " 11  ID_Method                    3587 non-null   object        \n",
            " 12  Distance                     3258 non-null   object        \n",
            " 13  Flyover_Observed             3588 non-null   bool          \n",
            " 14  Sex                          3588 non-null   object        \n",
            " 15  Common_Name                  3588 non-null   object        \n",
            " 16  Scientific_Name              3588 non-null   object        \n",
            " 17  AcceptedTSN                  3568 non-null   float64       \n",
            " 18  TaxonCode                    3587 non-null   float64       \n",
            " 19  AOU_Code                     3588 non-null   object        \n",
            " 20  PIF_Watchlist_Status         3588 non-null   bool          \n",
            " 21  Regional_Stewardship_Status  3588 non-null   bool          \n",
            " 22  Temperature                  3588 non-null   float64       \n",
            " 23  Humidity                     3588 non-null   float64       \n",
            " 24  Sky                          3588 non-null   object        \n",
            " 25  Wind                         3588 non-null   object        \n",
            " 26  Disturbance                  3588 non-null   object        \n",
            " 27  Previously_Obs               3588 non-null   bool          \n",
            " 28  Initial_Three_Min_Cnt        3588 non-null   bool          \n",
            "dtypes: bool(5), datetime64[ns](1), float64(5), int64(2), object(16)\n",
            "memory usage: 690.4+ KB\n"
          ]
        }
      ]
    },
    {
      "cell_type": "code",
      "source": [
        "df.describe()"
      ],
      "metadata": {
        "colab": {
          "base_uri": "https://localhost:8080/",
          "height": 300
        },
        "id": "gSTzeH2jZ7Gz",
        "outputId": "9f45d18c-a287-4adc-a93f-7467db7f35a4"
      },
      "execution_count": 23,
      "outputs": [
        {
          "output_type": "execute_result",
          "data": {
            "text/plain": [
              "       Sub_Unit_Code    Year                           Date        Visit  \\\n",
              "count            0.0  3588.0                           3588  3588.000000   \n",
              "mean             NaN  2018.0  2018-06-19 14:47:21.471571968     1.941472   \n",
              "min              NaN  2018.0            2018-05-22 00:00:00     1.000000   \n",
              "25%              NaN  2018.0            2018-05-24 00:00:00     1.000000   \n",
              "50%              NaN  2018.0            2018-06-25 00:00:00     2.000000   \n",
              "75%              NaN  2018.0            2018-07-13 00:00:00     3.000000   \n",
              "max              NaN  2018.0            2018-07-19 00:00:00     3.000000   \n",
              "std              NaN     0.0                            NaN     0.817584   \n",
              "\n",
              "         AcceptedTSN      TaxonCode  Temperature     Humidity  \n",
              "count    3568.000000    3587.000000  3588.000000  3588.000000  \n",
              "mean   196047.088285  102455.164483    24.176672    68.493896  \n",
              "min    174999.000000   76625.000000    12.900000    32.900002  \n",
              "25%    178581.000000   84790.000000    21.200001    58.599998  \n",
              "50%    179150.000000   87391.000000    23.900000    69.000000  \n",
              "75%    179443.000000   94215.000000    27.299999    79.900002  \n",
              "max    950052.000000  926917.000000    37.299999    93.300003  \n",
              "std     84588.122087   84034.740715     4.921327    13.936000  "
            ],
            "text/html": [
              "\n",
              "  <div id=\"df-54918bd0-e856-4515-9c05-3dbb937c4cf7\" class=\"colab-df-container\">\n",
              "    <div>\n",
              "<style scoped>\n",
              "    .dataframe tbody tr th:only-of-type {\n",
              "        vertical-align: middle;\n",
              "    }\n",
              "\n",
              "    .dataframe tbody tr th {\n",
              "        vertical-align: top;\n",
              "    }\n",
              "\n",
              "    .dataframe thead th {\n",
              "        text-align: right;\n",
              "    }\n",
              "</style>\n",
              "<table border=\"1\" class=\"dataframe\">\n",
              "  <thead>\n",
              "    <tr style=\"text-align: right;\">\n",
              "      <th></th>\n",
              "      <th>Sub_Unit_Code</th>\n",
              "      <th>Year</th>\n",
              "      <th>Date</th>\n",
              "      <th>Visit</th>\n",
              "      <th>AcceptedTSN</th>\n",
              "      <th>TaxonCode</th>\n",
              "      <th>Temperature</th>\n",
              "      <th>Humidity</th>\n",
              "    </tr>\n",
              "  </thead>\n",
              "  <tbody>\n",
              "    <tr>\n",
              "      <th>count</th>\n",
              "      <td>0.0</td>\n",
              "      <td>3588.0</td>\n",
              "      <td>3588</td>\n",
              "      <td>3588.000000</td>\n",
              "      <td>3568.000000</td>\n",
              "      <td>3587.000000</td>\n",
              "      <td>3588.000000</td>\n",
              "      <td>3588.000000</td>\n",
              "    </tr>\n",
              "    <tr>\n",
              "      <th>mean</th>\n",
              "      <td>NaN</td>\n",
              "      <td>2018.0</td>\n",
              "      <td>2018-06-19 14:47:21.471571968</td>\n",
              "      <td>1.941472</td>\n",
              "      <td>196047.088285</td>\n",
              "      <td>102455.164483</td>\n",
              "      <td>24.176672</td>\n",
              "      <td>68.493896</td>\n",
              "    </tr>\n",
              "    <tr>\n",
              "      <th>min</th>\n",
              "      <td>NaN</td>\n",
              "      <td>2018.0</td>\n",
              "      <td>2018-05-22 00:00:00</td>\n",
              "      <td>1.000000</td>\n",
              "      <td>174999.000000</td>\n",
              "      <td>76625.000000</td>\n",
              "      <td>12.900000</td>\n",
              "      <td>32.900002</td>\n",
              "    </tr>\n",
              "    <tr>\n",
              "      <th>25%</th>\n",
              "      <td>NaN</td>\n",
              "      <td>2018.0</td>\n",
              "      <td>2018-05-24 00:00:00</td>\n",
              "      <td>1.000000</td>\n",
              "      <td>178581.000000</td>\n",
              "      <td>84790.000000</td>\n",
              "      <td>21.200001</td>\n",
              "      <td>58.599998</td>\n",
              "    </tr>\n",
              "    <tr>\n",
              "      <th>50%</th>\n",
              "      <td>NaN</td>\n",
              "      <td>2018.0</td>\n",
              "      <td>2018-06-25 00:00:00</td>\n",
              "      <td>2.000000</td>\n",
              "      <td>179150.000000</td>\n",
              "      <td>87391.000000</td>\n",
              "      <td>23.900000</td>\n",
              "      <td>69.000000</td>\n",
              "    </tr>\n",
              "    <tr>\n",
              "      <th>75%</th>\n",
              "      <td>NaN</td>\n",
              "      <td>2018.0</td>\n",
              "      <td>2018-07-13 00:00:00</td>\n",
              "      <td>3.000000</td>\n",
              "      <td>179443.000000</td>\n",
              "      <td>94215.000000</td>\n",
              "      <td>27.299999</td>\n",
              "      <td>79.900002</td>\n",
              "    </tr>\n",
              "    <tr>\n",
              "      <th>max</th>\n",
              "      <td>NaN</td>\n",
              "      <td>2018.0</td>\n",
              "      <td>2018-07-19 00:00:00</td>\n",
              "      <td>3.000000</td>\n",
              "      <td>950052.000000</td>\n",
              "      <td>926917.000000</td>\n",
              "      <td>37.299999</td>\n",
              "      <td>93.300003</td>\n",
              "    </tr>\n",
              "    <tr>\n",
              "      <th>std</th>\n",
              "      <td>NaN</td>\n",
              "      <td>0.0</td>\n",
              "      <td>NaN</td>\n",
              "      <td>0.817584</td>\n",
              "      <td>84588.122087</td>\n",
              "      <td>84034.740715</td>\n",
              "      <td>4.921327</td>\n",
              "      <td>13.936000</td>\n",
              "    </tr>\n",
              "  </tbody>\n",
              "</table>\n",
              "</div>\n",
              "    <div class=\"colab-df-buttons\">\n",
              "\n",
              "  <div class=\"colab-df-container\">\n",
              "    <button class=\"colab-df-convert\" onclick=\"convertToInteractive('df-54918bd0-e856-4515-9c05-3dbb937c4cf7')\"\n",
              "            title=\"Convert this dataframe to an interactive table.\"\n",
              "            style=\"display:none;\">\n",
              "\n",
              "  <svg xmlns=\"http://www.w3.org/2000/svg\" height=\"24px\" viewBox=\"0 -960 960 960\">\n",
              "    <path d=\"M120-120v-720h720v720H120Zm60-500h600v-160H180v160Zm220 220h160v-160H400v160Zm0 220h160v-160H400v160ZM180-400h160v-160H180v160Zm440 0h160v-160H620v160ZM180-180h160v-160H180v160Zm440 0h160v-160H620v160Z\"/>\n",
              "  </svg>\n",
              "    </button>\n",
              "\n",
              "  <style>\n",
              "    .colab-df-container {\n",
              "      display:flex;\n",
              "      gap: 12px;\n",
              "    }\n",
              "\n",
              "    .colab-df-convert {\n",
              "      background-color: #E8F0FE;\n",
              "      border: none;\n",
              "      border-radius: 50%;\n",
              "      cursor: pointer;\n",
              "      display: none;\n",
              "      fill: #1967D2;\n",
              "      height: 32px;\n",
              "      padding: 0 0 0 0;\n",
              "      width: 32px;\n",
              "    }\n",
              "\n",
              "    .colab-df-convert:hover {\n",
              "      background-color: #E2EBFA;\n",
              "      box-shadow: 0px 1px 2px rgba(60, 64, 67, 0.3), 0px 1px 3px 1px rgba(60, 64, 67, 0.15);\n",
              "      fill: #174EA6;\n",
              "    }\n",
              "\n",
              "    .colab-df-buttons div {\n",
              "      margin-bottom: 4px;\n",
              "    }\n",
              "\n",
              "    [theme=dark] .colab-df-convert {\n",
              "      background-color: #3B4455;\n",
              "      fill: #D2E3FC;\n",
              "    }\n",
              "\n",
              "    [theme=dark] .colab-df-convert:hover {\n",
              "      background-color: #434B5C;\n",
              "      box-shadow: 0px 1px 3px 1px rgba(0, 0, 0, 0.15);\n",
              "      filter: drop-shadow(0px 1px 2px rgba(0, 0, 0, 0.3));\n",
              "      fill: #FFFFFF;\n",
              "    }\n",
              "  </style>\n",
              "\n",
              "    <script>\n",
              "      const buttonEl =\n",
              "        document.querySelector('#df-54918bd0-e856-4515-9c05-3dbb937c4cf7 button.colab-df-convert');\n",
              "      buttonEl.style.display =\n",
              "        google.colab.kernel.accessAllowed ? 'block' : 'none';\n",
              "\n",
              "      async function convertToInteractive(key) {\n",
              "        const element = document.querySelector('#df-54918bd0-e856-4515-9c05-3dbb937c4cf7');\n",
              "        const dataTable =\n",
              "          await google.colab.kernel.invokeFunction('convertToInteractive',\n",
              "                                                    [key], {});\n",
              "        if (!dataTable) return;\n",
              "\n",
              "        const docLinkHtml = 'Like what you see? Visit the ' +\n",
              "          '<a target=\"_blank\" href=https://colab.research.google.com/notebooks/data_table.ipynb>data table notebook</a>'\n",
              "          + ' to learn more about interactive tables.';\n",
              "        element.innerHTML = '';\n",
              "        dataTable['output_type'] = 'display_data';\n",
              "        await google.colab.output.renderOutput(dataTable, element);\n",
              "        const docLink = document.createElement('div');\n",
              "        docLink.innerHTML = docLinkHtml;\n",
              "        element.appendChild(docLink);\n",
              "      }\n",
              "    </script>\n",
              "  </div>\n",
              "\n",
              "\n",
              "    <div id=\"df-3faa9c3f-7a3f-4ef3-a281-93ee6937e988\">\n",
              "      <button class=\"colab-df-quickchart\" onclick=\"quickchart('df-3faa9c3f-7a3f-4ef3-a281-93ee6937e988')\"\n",
              "                title=\"Suggest charts\"\n",
              "                style=\"display:none;\">\n",
              "\n",
              "<svg xmlns=\"http://www.w3.org/2000/svg\" height=\"24px\"viewBox=\"0 0 24 24\"\n",
              "     width=\"24px\">\n",
              "    <g>\n",
              "        <path d=\"M19 3H5c-1.1 0-2 .9-2 2v14c0 1.1.9 2 2 2h14c1.1 0 2-.9 2-2V5c0-1.1-.9-2-2-2zM9 17H7v-7h2v7zm4 0h-2V7h2v10zm4 0h-2v-4h2v4z\"/>\n",
              "    </g>\n",
              "</svg>\n",
              "      </button>\n",
              "\n",
              "<style>\n",
              "  .colab-df-quickchart {\n",
              "      --bg-color: #E8F0FE;\n",
              "      --fill-color: #1967D2;\n",
              "      --hover-bg-color: #E2EBFA;\n",
              "      --hover-fill-color: #174EA6;\n",
              "      --disabled-fill-color: #AAA;\n",
              "      --disabled-bg-color: #DDD;\n",
              "  }\n",
              "\n",
              "  [theme=dark] .colab-df-quickchart {\n",
              "      --bg-color: #3B4455;\n",
              "      --fill-color: #D2E3FC;\n",
              "      --hover-bg-color: #434B5C;\n",
              "      --hover-fill-color: #FFFFFF;\n",
              "      --disabled-bg-color: #3B4455;\n",
              "      --disabled-fill-color: #666;\n",
              "  }\n",
              "\n",
              "  .colab-df-quickchart {\n",
              "    background-color: var(--bg-color);\n",
              "    border: none;\n",
              "    border-radius: 50%;\n",
              "    cursor: pointer;\n",
              "    display: none;\n",
              "    fill: var(--fill-color);\n",
              "    height: 32px;\n",
              "    padding: 0;\n",
              "    width: 32px;\n",
              "  }\n",
              "\n",
              "  .colab-df-quickchart:hover {\n",
              "    background-color: var(--hover-bg-color);\n",
              "    box-shadow: 0 1px 2px rgba(60, 64, 67, 0.3), 0 1px 3px 1px rgba(60, 64, 67, 0.15);\n",
              "    fill: var(--button-hover-fill-color);\n",
              "  }\n",
              "\n",
              "  .colab-df-quickchart-complete:disabled,\n",
              "  .colab-df-quickchart-complete:disabled:hover {\n",
              "    background-color: var(--disabled-bg-color);\n",
              "    fill: var(--disabled-fill-color);\n",
              "    box-shadow: none;\n",
              "  }\n",
              "\n",
              "  .colab-df-spinner {\n",
              "    border: 2px solid var(--fill-color);\n",
              "    border-color: transparent;\n",
              "    border-bottom-color: var(--fill-color);\n",
              "    animation:\n",
              "      spin 1s steps(1) infinite;\n",
              "  }\n",
              "\n",
              "  @keyframes spin {\n",
              "    0% {\n",
              "      border-color: transparent;\n",
              "      border-bottom-color: var(--fill-color);\n",
              "      border-left-color: var(--fill-color);\n",
              "    }\n",
              "    20% {\n",
              "      border-color: transparent;\n",
              "      border-left-color: var(--fill-color);\n",
              "      border-top-color: var(--fill-color);\n",
              "    }\n",
              "    30% {\n",
              "      border-color: transparent;\n",
              "      border-left-color: var(--fill-color);\n",
              "      border-top-color: var(--fill-color);\n",
              "      border-right-color: var(--fill-color);\n",
              "    }\n",
              "    40% {\n",
              "      border-color: transparent;\n",
              "      border-right-color: var(--fill-color);\n",
              "      border-top-color: var(--fill-color);\n",
              "    }\n",
              "    60% {\n",
              "      border-color: transparent;\n",
              "      border-right-color: var(--fill-color);\n",
              "    }\n",
              "    80% {\n",
              "      border-color: transparent;\n",
              "      border-right-color: var(--fill-color);\n",
              "      border-bottom-color: var(--fill-color);\n",
              "    }\n",
              "    90% {\n",
              "      border-color: transparent;\n",
              "      border-bottom-color: var(--fill-color);\n",
              "    }\n",
              "  }\n",
              "</style>\n",
              "\n",
              "      <script>\n",
              "        async function quickchart(key) {\n",
              "          const quickchartButtonEl =\n",
              "            document.querySelector('#' + key + ' button');\n",
              "          quickchartButtonEl.disabled = true;  // To prevent multiple clicks.\n",
              "          quickchartButtonEl.classList.add('colab-df-spinner');\n",
              "          try {\n",
              "            const charts = await google.colab.kernel.invokeFunction(\n",
              "                'suggestCharts', [key], {});\n",
              "          } catch (error) {\n",
              "            console.error('Error during call to suggestCharts:', error);\n",
              "          }\n",
              "          quickchartButtonEl.classList.remove('colab-df-spinner');\n",
              "          quickchartButtonEl.classList.add('colab-df-quickchart-complete');\n",
              "        }\n",
              "        (() => {\n",
              "          let quickchartButtonEl =\n",
              "            document.querySelector('#df-3faa9c3f-7a3f-4ef3-a281-93ee6937e988 button');\n",
              "          quickchartButtonEl.style.display =\n",
              "            google.colab.kernel.accessAllowed ? 'block' : 'none';\n",
              "        })();\n",
              "      </script>\n",
              "    </div>\n",
              "\n",
              "    </div>\n",
              "  </div>\n"
            ],
            "application/vnd.google.colaboratory.intrinsic+json": {
              "type": "dataframe",
              "summary": "{\n  \"name\": \"df\",\n  \"rows\": 8,\n  \"fields\": [\n    {\n      \"column\": \"Sub_Unit_Code\",\n      \"properties\": {\n        \"dtype\": \"number\",\n        \"std\": null,\n        \"min\": 0.0,\n        \"max\": 0.0,\n        \"num_unique_values\": 1,\n        \"samples\": [\n          0.0\n        ],\n        \"semantic_type\": \"\",\n        \"description\": \"\"\n      }\n    },\n    {\n      \"column\": \"Year\",\n      \"properties\": {\n        \"dtype\": \"number\",\n        \"std\": 964.5232723253197,\n        \"min\": 0.0,\n        \"max\": 3588.0,\n        \"num_unique_values\": 3,\n        \"samples\": [\n          3588.0\n        ],\n        \"semantic_type\": \"\",\n        \"description\": \"\"\n      }\n    },\n    {\n      \"column\": \"Date\",\n      \"properties\": {\n        \"dtype\": \"date\",\n        \"min\": \"1970-01-01 00:00:00.000003588\",\n        \"max\": \"2018-07-19 00:00:00\",\n        \"num_unique_values\": 7,\n        \"samples\": [\n          \"3588\"\n        ],\n        \"semantic_type\": \"\",\n        \"description\": \"\"\n      }\n    },\n    {\n      \"column\": \"Visit\",\n      \"properties\": {\n        \"dtype\": \"number\",\n        \"std\": 1267.9054277168564,\n        \"min\": 0.8175843149787902,\n        \"max\": 3588.0,\n        \"num_unique_values\": 6,\n        \"samples\": [\n          3588.0\n        ],\n        \"semantic_type\": \"\",\n        \"description\": \"\"\n      }\n    },\n    {\n      \"column\": \"AcceptedTSN\",\n      \"properties\": {\n        \"dtype\": \"number\",\n        \"std\": 293120.8023996035,\n        \"min\": 3568.0,\n        \"max\": 950052.0,\n        \"num_unique_values\": 8,\n        \"samples\": [\n          196047.08828475335\n        ],\n        \"semantic_type\": \"\",\n        \"description\": \"\"\n      }\n    },\n    {\n      \"column\": \"TaxonCode\",\n      \"properties\": {\n        \"dtype\": \"number\",\n        \"std\": 302339.88377327914,\n        \"min\": 3587.0,\n        \"max\": 926917.0,\n        \"num_unique_values\": 8,\n        \"samples\": [\n          102455.16448285476\n        ],\n        \"semantic_type\": \"\",\n        \"description\": \"\"\n      }\n    },\n    {\n      \"column\": \"Temperature\",\n      \"properties\": {\n        \"dtype\": \"number\",\n        \"std\": 1260.9241923039888,\n        \"min\": 4.921327444029984,\n        \"max\": 3588.0,\n        \"num_unique_values\": 8,\n        \"samples\": [\n          24.176672250530792\n        ],\n        \"semantic_type\": \"\",\n        \"description\": \"\"\n      }\n    },\n    {\n      \"column\": \"Humidity\",\n      \"properties\": {\n        \"dtype\": \"number\",\n        \"std\": 1247.7902676224367,\n        \"min\": 13.935999992076447,\n        \"max\": 3588.0,\n        \"num_unique_values\": 8,\n        \"samples\": [\n          68.49389626323313\n        ],\n        \"semantic_type\": \"\",\n        \"description\": \"\"\n      }\n    }\n  ]\n}"
            }
          },
          "metadata": {},
          "execution_count": 23
        }
      ]
    },
    {
      "cell_type": "code",
      "source": [
        "# Check for missing values\n",
        "print(df.isnull().sum())"
      ],
      "metadata": {
        "colab": {
          "base_uri": "https://localhost:8080/"
        },
        "id": "Bu8EPy4YZ_nb",
        "outputId": "b732f192-6c20-43a3-8f82-97bd64ca39dd"
      },
      "execution_count": 25,
      "outputs": [
        {
          "output_type": "stream",
          "name": "stdout",
          "text": [
            "Admin_Unit_Code                   0\n",
            "Sub_Unit_Code                  3588\n",
            "Plot_Name                         0\n",
            "Location_Type                     0\n",
            "Year                              0\n",
            "Date                              0\n",
            "Start_Time                        0\n",
            "End_Time                          0\n",
            "Observer                          0\n",
            "Visit                             0\n",
            "Interval_Length                   0\n",
            "ID_Method                         1\n",
            "Distance                        330\n",
            "Flyover_Observed                  0\n",
            "Sex                               0\n",
            "Common_Name                       0\n",
            "Scientific_Name                   0\n",
            "AcceptedTSN                      20\n",
            "TaxonCode                         1\n",
            "AOU_Code                          0\n",
            "PIF_Watchlist_Status              0\n",
            "Regional_Stewardship_Status       0\n",
            "Temperature                       0\n",
            "Humidity                          0\n",
            "Sky                               0\n",
            "Wind                              0\n",
            "Disturbance                       0\n",
            "Previously_Obs                    0\n",
            "Initial_Three_Min_Cnt             0\n",
            "dtype: int64\n"
          ]
        }
      ]
    },
    {
      "cell_type": "code",
      "source": [
        "# converting the date column to datetime format\n",
        "df['Date'] = pd.to_datetime(df['Date'])\n",
        "df['Year'] = df['Date'].dt.year\n",
        "# Calculating  average temperature\n",
        "df['Temperature'] = pd.to_numeric(df['Temperature'], errors='coerce')\n",
        "avg_temp_by_year = df.groupby('Year')['Temperature'].mean().reset_index()\n",
        "\n",
        "print(avg_temp_by_year)"
      ],
      "metadata": {
        "colab": {
          "base_uri": "https://localhost:8080/"
        },
        "id": "6tTF-IvfaM6U",
        "outputId": "9b607de9-a9f6-4d33-c3ec-0c74f888423e"
      },
      "execution_count": 27,
      "outputs": [
        {
          "output_type": "stream",
          "name": "stdout",
          "text": [
            "   Year  Temperature\n",
            "0  2018    24.176672\n"
          ]
        }
      ]
    },
    {
      "cell_type": "code",
      "source": [
        "plt.figure(figsize=(10, 6))\n",
        "sns.lineplot(data=avg_temp_by_year, x='Year', y='Temperature', marker='o', color='blue')\n",
        "plt.title(\"Average Temperature by Year\")\n",
        "plt.xlabel(\"Year\")\n",
        "plt.ylabel(\"Average Temperature (°C)\")\n",
        "plt.grid(True)\n",
        "plt.tight_layout()\n",
        "plt.show()"
      ],
      "metadata": {
        "colab": {
          "base_uri": "https://localhost:8080/",
          "height": 607
        },
        "id": "YAnKk_mfaTYL",
        "outputId": "50e68a52-1ebc-4acd-f154-2fa588d5dbc2"
      },
      "execution_count": 33,
      "outputs": [
        {
          "output_type": "display_data",
          "data": {
            "text/plain": [
              "<Figure size 1000x600 with 1 Axes>"
            ],
            "image/png": "[encoded data removed]"
          },
          "metadata": {}
        }
      ]
    },
    {
      "cell_type": "markdown",
      "source": [
        "#Distance Distribution"
      ],
      "metadata": {
        "id": "8W0WMAyAbYq0"
      }
    },
    {
      "cell_type": "code",
      "source": [
        "distance_df = df.dropna(subset=['Distance'])\n",
        "\n",
        "plt.figure(figsize=(10, 5))\n",
        "sns.countplot(data=distance_df, x='Distance', order=distance_df['Distance'].value_counts().index)\n",
        "plt.title('Distribution of Distance Observations')\n",
        "plt.xlabel('Distance')\n",
        "plt.ylabel('Count')\n",
        "plt.xticks(rotation=45)\n",
        "plt.tight_layout()\n",
        "plt.show()"
      ],
      "metadata": {
        "colab": {
          "base_uri": "https://localhost:8080/",
          "height": 506
        },
        "id": "D2yb3V9HbQnb",
        "outputId": "bff97925-db10-4376-bd1e-2c4ff69a8376"
      },
      "execution_count": 36,
      "outputs": [
        {
          "output_type": "display_data",
          "data": {
            "text/plain": [
              "<Figure size 1000x500 with 1 Axes>"
            ],
            "image/png": "[encoded data removed]"
          },
          "metadata": {}
        }
      ]
    },
    {
      "cell_type": "markdown",
      "source": [
        "#DISTRIBUTION OF DISTURBANCE TYPES"
      ],
      "metadata": {
        "id": "z8pA2kujbppz"
      }
    },
    {
      "cell_type": "code",
      "source": [
        "plt.figure(figsize=(10, 5))\n",
        "sns.countplot(data=df, y='Disturbance', order=df['Disturbance'].value_counts().index)\n",
        "plt.title('Distribution of Disturbance Types')\n",
        "plt.xlabel('Count')\n",
        "plt.ylabel('Disturbance Type')\n",
        "plt.tight_layout()\n",
        "plt.show()"
      ],
      "metadata": {
        "colab": {
          "base_uri": "https://localhost:8080/",
          "height": 507
        },
        "id": "hPfl-zfybd2z",
        "outputId": "11cd00ce-b2f7-4e42-e52f-b092e8e41fe7"
      },
      "execution_count": 37,
      "outputs": [
        {
          "output_type": "display_data",
          "data": {
            "text/plain": [
              "<Figure size 1000x500 with 1 Axes>"
            ],
            "image/png": "[encoded data removed]"
          },
          "metadata": {}
        }
      ]
    },
    {
      "cell_type": "markdown",
      "source": [
        "The impact of agricultural expansion is evident. This could reflect conversion of natural land into farmland, affecting biodiversity and ecosystem services."
      ],
      "metadata": {
        "id": "J79h_wvdcynM"
      }
    },
    {
      "cell_type": "markdown",
      "source": [
        "Logging is the most frequent disturbance, indicating heavy exploitation of forest resources or significant land-use change. This points to a need for stricter forestry management and sustainable logging practices."
      ],
      "metadata": {
        "id": "xIXxsBHBdIhL"
      }
    },
    {
      "cell_type": "markdown",
      "source": [
        "#OBSERVER TRENDS OVER THE YEAR"
      ],
      "metadata": {
        "id": "XT4hzhZrdRBb"
      }
    },
    {
      "cell_type": "code",
      "source": [
        "# Count total observations per observer\n",
        "observer_counts = df['Observer'].value_counts().reset_index()\n",
        "observer_counts.columns = ['Observer', 'Observation_Count']\n",
        "observer_yearly = df.groupby(['Observer', 'Year']).size().reset_index(name='Observation_Count')\n",
        "\n",
        "# Select top 5 observers\n",
        "top_observers = observer_counts.head(5)['Observer'].tolist()\n",
        "top_obs_yearly = observer_yearly[observer_yearly['Observer'].isin(top_observers)]\n",
        "plt.figure(figsize=(12, 6))\n",
        "sns.lineplot(data=top_obs_yearly, x='Year', y='Observation_Count', hue='Observer', marker='o')\n",
        "plt.title('Observation Trends Over Time for Top Observers')\n",
        "plt.xlabel('Year')\n",
        "plt.ylabel('Number of Observations')\n",
        "plt.legend(title='Observer')\n",
        "plt.tight_layout()\n",
        "plt.show()"
      ],
      "metadata": {
        "colab": {
          "base_uri": "https://localhost:8080/",
          "height": 600
        },
        "id": "UCItzf1Zc6GD",
        "outputId": "2a8494c1-1530-4ef5-8e32-3a42336bd941"
      },
      "execution_count": 39,
      "outputs": [
        {
          "output_type": "display_data",
          "data": {
            "text/plain": [
              "<Figure size 1200x600 with 1 Axes>"
            ],
            "image/png": "[encoded data removed]"
          },
          "metadata": {}
        }
      ]
    },
    {
      "cell_type": "markdown",
      "source": [
        "Consistent lines suggest steady involvement over years.\n",
        "\n",
        "Spikes or drops may indicate project-specific involvement or gaps in data collection.\n",
        "\n",
        " \"Observer A maintained a high and consistent level of activity across all years, indicating sustained involvement in the monitoring program.\""
      ],
      "metadata": {
        "id": "aoNlYlIzeO8E"
      }
    },
    {
      "cell_type": "markdown",
      "source": [
        "ome observers may show activity starting later (may be no data before a certain year).\n",
        "\n",
        "Others may stop contributing after a point."
      ],
      "metadata": {
        "id": "TTpLr7kKeh9d"
      }
    },
    {
      "cell_type": "code",
      "source": [],
      "metadata": {
        "id": "ZK4424QYdYrD"
      },
      "execution_count": null,
      "outputs": []
    }
  ]
}