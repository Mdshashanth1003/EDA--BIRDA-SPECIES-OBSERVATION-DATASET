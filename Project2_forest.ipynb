{
  "cells": [
    {
      "cell_type": "markdown",
      "metadata": {
        "id": "view-in-github",
        "colab_type": "text"
      },
      "source": [
        "<a href=\"https://colab.research.google.com/github/Mdshashanth1003/EDA--BIRDA-SPECIES-OBSERVATION-DATASET/blob/main/Project2_forest.ipynb\" target=\"_parent\"><img src=\"https://colab.research.google.com/assets/colab-badge.svg\" alt=\"Open In Colab\"/></a>"
      ]
    },
    {
      "cell_type": "code",
      "source": [],
      "metadata": {
        "id": "XnDcUQslw13z"
      },
      "execution_count": null,
      "outputs": []
    },
    {
      "cell_type": "code",
      "execution_count": 21,
      "metadata": {
        "id": "-mpeSvEGNKRd"
      },
      "outputs": [],
      "source": [
        "import numpy as np\n",
        "import pandas as pd\n",
        "import matplotlib.pyplot as plt\n",
        "import seaborn as sns"
      ]
    },
    {
      "cell_type": "markdown",
      "source": [],
      "metadata": {
        "id": "GI4u9N3QTVID"
      }
    },
    {
      "cell_type": "code",
      "execution_count": 4,
      "metadata": {
        "colab": {
          "base_uri": "https://localhost:8080/",
          "height": 658
        },
        "id": "SN4cs-ZWNctc",
        "outputId": "19e26f46-6182-4018-a3bc-04d7a97a6479"
      },
      "outputs": [
        {
          "output_type": "display_data",
          "data": {
            "text/plain": [
              "<IPython.core.display.HTML object>"
            ],
            "text/html": [
              "\n",
              "     <input type=\"file\" id=\"files-5e21d39a-4ba8-4185-8369-794f52a9a02c\" name=\"files[]\" multiple disabled\n",
              "        style=\"border:none\" />\n",
              "     <output id=\"result-5e21d39a-4ba8-4185-8369-794f52a9a02c\">\n",
              "      Upload widget is only available when the cell has been executed in the\n",
              "      current browser session. Please rerun this cell to enable.\n",
              "      </output>\n",
              "      <script>// Copyright 2017 Google LLC\n",
              "//\n",
              "// Licensed under the Apache License, Version 2.0 (the \"License\");\n",
              "// you may not use this file except in compliance with the License.\n",
              "// You may obtain a copy of the License at\n",
              "//\n",
              "//      http://www.apache.org/licenses/LICENSE-2.0\n",
              "//\n",
              "// Unless required by applicable law or agreed to in writing, software\n",
              "// distributed under the License is distributed on an \"AS IS\" BASIS,\n",
              "// WITHOUT WARRANTIES OR CONDITIONS OF ANY KIND, either express or implied.\n",
              "// See the License for the specific language governing permissions and\n",
              "// limitations under the License.\n",
              "\n",
              "/**\n",
              " * @fileoverview Helpers for google.colab Python module.\n",
              " */\n",
              "(function(scope) {\n",
              "function span(text, styleAttributes = {}) {\n",
              "  const element = document.createElement('span');\n",
              "  element.textContent = text;\n",
              "  for (const key of Object.keys(styleAttributes)) {\n",
              "    element.style[key] = styleAttributes[key];\n",
              "  }\n",
              "  return element;\n",
              "}\n",
              "\n",
              "// Max number of bytes which will be uploaded at a time.\n",
              "const MAX_PAYLOAD_SIZE = 100 * 1024;\n",
              "\n",
              "function _uploadFiles(inputId, outputId) {\n",
              "  const steps = uploadFilesStep(inputId, outputId);\n",
              "  const outputElement = document.getElementById(outputId);\n",
              "  // Cache steps on the outputElement to make it available for the next call\n",
              "  // to uploadFilesContinue from Python.\n",
              "  outputElement.steps = steps;\n",
              "\n",
              "  return _uploadFilesContinue(outputId);\n",
              "}\n",
              "\n",
              "// This is roughly an async generator (not supported in the browser yet),\n",
              "// where there are multiple asynchronous steps and the Python side is going\n",
              "// to poll for completion of each step.\n",
              "// This uses a Promise to block the python side on completion of each step,\n",
              "// then passes the result of the previous step as the input to the next step.\n",
              "function _uploadFilesContinue(outputId) {\n",
              "  const outputElement = document.getElementById(outputId);\n",
              "  const steps = outputElement.steps;\n",
              "\n",
              "  const next = steps.next(outputElement.lastPromiseValue);\n",
              "  return Promise.resolve(next.value.promise).then((value) => {\n",
              "    // Cache the last promise value to make it available to the next\n",
              "    // step of the generator.\n",
              "    outputElement.lastPromiseValue = value;\n",
              "    return next.value.response;\n",
              "  });\n",
              "}\n",
              "\n",
              "/**\n",
              " * Generator function which is called between each async step of the upload\n",
              " * process.\n",
              " * @param {string} inputId Element ID of the input file picker element.\n",
              " * @param {string} outputId Element ID of the output display.\n",
              " * @return {!Iterable<!Object>} Iterable of next steps.\n",
              " */\n",
              "function* uploadFilesStep(inputId, outputId) {\n",
              "  const inputElement = document.getElementById(inputId);\n",
              "  inputElement.disabled = false;\n",
              "\n",
              "  const outputElement = document.getElementById(outputId);\n",
              "  outputElement.innerHTML = '';\n",
              "\n",
              "  const pickedPromise = new Promise((resolve) => {\n",
              "    inputElement.addEventListener('change', (e) => {\n",
              "      resolve(e.target.files);\n",
              "    });\n",
              "  });\n",
              "\n",
              "  const cancel = document.createElement('button');\n",
              "  inputElement.parentElement.appendChild(cancel);\n",
              "  cancel.textContent = 'Cancel upload';\n",
              "  const cancelPromise = new Promise((resolve) => {\n",
              "    cancel.onclick = () => {\n",
              "      resolve(null);\n",
              "    };\n",
              "  });\n",
              "\n",
              "  // Wait for the user to pick the files.\n",
              "  const files = yield {\n",
              "    promise: Promise.race([pickedPromise, cancelPromise]),\n",
              "    response: {\n",
              "      action: 'starting',\n",
              "    }\n",
              "  };\n",
              "\n",
              "  cancel.remove();\n",
              "\n",
              "  // Disable the input element since further picks are not allowed.\n",
              "  inputElement.disabled = true;\n",
              "\n",
              "  if (!files) {\n",
              "    return {\n",
              "      response: {\n",
              "        action: 'complete',\n",
              "      }\n",
              "    };\n",
              "  }\n",
              "\n",
              "  for (const file of files) {\n",
              "    const li = document.createElement('li');\n",
              "    li.append(span(file.name, {fontWeight: 'bold'}));\n",
              "    li.append(span(\n",
              "        `(${file.type || 'n/a'}) - ${file.size} bytes, ` +\n",
              "        `last modified: ${\n",
              "            file.lastModifiedDate ? file.lastModifiedDate.toLocaleDateString() :\n",
              "                                    'n/a'} - `));\n",
              "    const percent = span('0% done');\n",
              "    li.appendChild(percent);\n",
              "\n",
              "    outputElement.appendChild(li);\n",
              "\n",
              "    const fileDataPromise = new Promise((resolve) => {\n",
              "      const reader = new FileReader();\n",
              "      reader.onload = (e) => {\n",
              "        resolve(e.target.result);\n",
              "      };\n",
              "      reader.readAsArrayBuffer(file);\n",
              "    });\n",
              "    // Wait for the data to be ready.\n",
              "    let fileData = yield {\n",
              "      promise: fileDataPromise,\n",
              "      response: {\n",
              "        action: 'continue',\n",
              "      }\n",
              "    };\n",
              "\n",
              "    // Use a chunked sending to avoid message size limits. See b/62115660.\n",
              "    let position = 0;\n",
              "    do {\n",
              "      const length = Math.min(fileData.byteLength - position, MAX_PAYLOAD_SIZE);\n",
              "      const chunk = new Uint8Array(fileData, position, length);\n",
              "      position += length;\n",
              "\n",
              "      const base64 = btoa(String.fromCharCode.apply(null, chunk));\n",
              "      yield {\n",
              "        response: {\n",
              "          action: 'append',\n",
              "          file: file.name,\n",
              "          data: base64,\n",
              "        },\n",
              "      };\n",
              "\n",
              "      let percentDone = fileData.byteLength === 0 ?\n",
              "          100 :\n",
              "          Math.round((position / fileData.byteLength) * 100);\n",
              "      percent.textContent = `${percentDone}% done`;\n",
              "\n",
              "    } while (position < fileData.byteLength);\n",
              "  }\n",
              "\n",
              "  // All done.\n",
              "  yield {\n",
              "    response: {\n",
              "      action: 'complete',\n",
              "    }\n",
              "  };\n",
              "}\n",
              "\n",
              "scope.google = scope.google || {};\n",
              "scope.google.colab = scope.google.colab || {};\n",
              "scope.google.colab._files = {\n",
              "  _uploadFiles,\n",
              "  _uploadFilesContinue,\n",
              "};\n",
              "})(self);\n",
              "</script> "
            ]
          },
          "metadata": {}
        },
        {
          "output_type": "stream",
          "name": "stdout",
          "text": [
            "Saving Bird_Monitoring_Data_FOREST.XLSX to Bird_Monitoring_Data_FOREST.XLSX\n"
          ]
        },
        {
          "output_type": "execute_result",
          "data": {
            "text/plain": [
              "  Admin_Unit_Code  Sub_Unit_Code Site_Name  Plot_Name Location_Type  Year  \\\n",
              "0            ANTI            NaN    ANTI 1  ANTI-0036        Forest  2018   \n",
              "1            ANTI            NaN    ANTI 1  ANTI-0036        Forest  2018   \n",
              "2            ANTI            NaN    ANTI 1  ANTI-0036        Forest  2018   \n",
              "3            ANTI            NaN    ANTI 1  ANTI-0036        Forest  2018   \n",
              "4            ANTI            NaN    ANTI 1  ANTI-0036        Forest  2018   \n",
              "\n",
              "        Date Start_Time  End_Time          Observer  ...  NPSTaxonCode  \\\n",
              "0 2018-05-22   06:19:00  06:29:00  Elizabeth Oswald  ...         83803   \n",
              "1 2018-05-22   06:19:00  06:29:00  Elizabeth Oswald  ...         90935   \n",
              "2 2018-05-22   06:19:00  06:29:00  Elizabeth Oswald  ...         84865   \n",
              "3 2018-05-22   06:19:00  06:29:00  Elizabeth Oswald  ...         93634   \n",
              "4 2018-05-22   06:19:00  06:29:00  Elizabeth Oswald  ...         88394   \n",
              "\n",
              "  AOU_Code PIF_Watchlist_Status Regional_Stewardship_Status  Temperature  \\\n",
              "0     EATO                False                        True         19.9   \n",
              "1     WBNU                False                       False         19.9   \n",
              "2     RBWO                False                       False         19.9   \n",
              "3     OROR                False                       False         19.9   \n",
              "4     NOMO                False                       False         19.9   \n",
              "\n",
              "    Humidity              Sky                                   Wind  \\\n",
              "0  79.400002  Cloudy/Overcast  Calm (< 1 mph) smoke rises vertically   \n",
              "1  79.400002  Cloudy/Overcast  Calm (< 1 mph) smoke rises vertically   \n",
              "2  79.400002  Cloudy/Overcast  Calm (< 1 mph) smoke rises vertically   \n",
              "3  79.400002  Cloudy/Overcast  Calm (< 1 mph) smoke rises vertically   \n",
              "4  79.400002  Cloudy/Overcast  Calm (< 1 mph) smoke rises vertically   \n",
              "\n",
              "          Disturbance  Initial_Three_Min_Cnt  \n",
              "0  No effect on count                   True  \n",
              "1  No effect on count                   True  \n",
              "2  No effect on count                  False  \n",
              "3  No effect on count                  False  \n",
              "4  No effect on count                  False  \n",
              "\n",
              "[5 rows x 29 columns]"
            ],
            "text/html": [
              "\n",
              "  <div id=\"df-e7d0d8fd-41a1-4bd1-a846-fe4303ef8aa5\" class=\"colab-df-container\">\n",
              "    <div>\n",
              "<style scoped>\n",
              "    .dataframe tbody tr th:only-of-type {\n",
              "        vertical-align: middle;\n",
              "    }\n",
              "\n",
              "    .dataframe tbody tr th {\n",
              "        vertical-align: top;\n",
              "    }\n",
              "\n",
              "    .dataframe thead th {\n",
              "        text-align: right;\n",
              "    }\n",
              "</style>\n",
              "<table border=\"1\" class=\"dataframe\">\n",
              "  <thead>\n",
              "    <tr style=\"text-align: right;\">\n",
              "      <th></th>\n",
              "      <th>Admin_Unit_Code</th>\n",
              "      <th>Sub_Unit_Code</th>\n",
              "      <th>Site_Name</th>\n",
              "      <th>Plot_Name</th>\n",
              "      <th>Location_Type</th>\n",
              "      <th>Year</th>\n",
              "      <th>Date</th>\n",
              "      <th>Start_Time</th>\n",
              "      <th>End_Time</th>\n",
              "      <th>Observer</th>\n",
              "      <th>...</th>\n",
              "      <th>NPSTaxonCode</th>\n",
              "      <th>AOU_Code</th>\n",
              "      <th>PIF_Watchlist_Status</th>\n",
              "      <th>Regional_Stewardship_Status</th>\n",
              "      <th>Temperature</th>\n",
              "      <th>Humidity</th>\n",
              "      <th>Sky</th>\n",
              "      <th>Wind</th>\n",
              "      <th>Disturbance</th>\n",
              "      <th>Initial_Three_Min_Cnt</th>\n",
              "    </tr>\n",
              "  </thead>\n",
              "  <tbody>\n",
              "    <tr>\n",
              "      <th>0</th>\n",
              "      <td>ANTI</td>\n",
              "      <td>NaN</td>\n",
              "      <td>ANTI 1</td>\n",
              "      <td>ANTI-0036</td>\n",
              "      <td>Forest</td>\n",
              "      <td>2018</td>\n",
              "      <td>2018-05-22</td>\n",
              "      <td>06:19:00</td>\n",
              "      <td>06:29:00</td>\n",
              "      <td>Elizabeth Oswald</td>\n",
              "      <td>...</td>\n",
              "      <td>83803</td>\n",
              "      <td>EATO</td>\n",
              "      <td>False</td>\n",
              "      <td>True</td>\n",
              "      <td>19.9</td>\n",
              "      <td>79.400002</td>\n",
              "      <td>Cloudy/Overcast</td>\n",
              "      <td>Calm (&lt; 1 mph) smoke rises vertically</td>\n",
              "      <td>No effect on count</td>\n",
              "      <td>True</td>\n",
              "    </tr>\n",
              "    <tr>\n",
              "      <th>1</th>\n",
              "      <td>ANTI</td>\n",
              "      <td>NaN</td>\n",
              "      <td>ANTI 1</td>\n",
              "      <td>ANTI-0036</td>\n",
              "      <td>Forest</td>\n",
              "      <td>2018</td>\n",
              "      <td>2018-05-22</td>\n",
              "      <td>06:19:00</td>\n",
              "      <td>06:29:00</td>\n",
              "      <td>Elizabeth Oswald</td>\n",
              "      <td>...</td>\n",
              "      <td>90935</td>\n",
              "      <td>WBNU</td>\n",
              "      <td>False</td>\n",
              "      <td>False</td>\n",
              "      <td>19.9</td>\n",
              "      <td>79.400002</td>\n",
              "      <td>Cloudy/Overcast</td>\n",
              "      <td>Calm (&lt; 1 mph) smoke rises vertically</td>\n",
              "      <td>No effect on count</td>\n",
              "      <td>True</td>\n",
              "    </tr>\n",
              "    <tr>\n",
              "      <th>2</th>\n",
              "      <td>ANTI</td>\n",
              "      <td>NaN</td>\n",
              "      <td>ANTI 1</td>\n",
              "      <td>ANTI-0036</td>\n",
              "      <td>Forest</td>\n",
              "      <td>2018</td>\n",
              "      <td>2018-05-22</td>\n",
              "      <td>06:19:00</td>\n",
              "      <td>06:29:00</td>\n",
              "      <td>Elizabeth Oswald</td>\n",
              "      <td>...</td>\n",
              "      <td>84865</td>\n",
              "      <td>RBWO</td>\n",
              "      <td>False</td>\n",
              "      <td>False</td>\n",
              "      <td>19.9</td>\n",
              "      <td>79.400002</td>\n",
              "      <td>Cloudy/Overcast</td>\n",
              "      <td>Calm (&lt; 1 mph) smoke rises vertically</td>\n",
              "      <td>No effect on count</td>\n",
              "      <td>False</td>\n",
              "    </tr>\n",
              "    <tr>\n",
              "      <th>3</th>\n",
              "      <td>ANTI</td>\n",
              "      <td>NaN</td>\n",
              "      <td>ANTI 1</td>\n",
              "      <td>ANTI-0036</td>\n",
              "      <td>Forest</td>\n",
              "      <td>2018</td>\n",
              "      <td>2018-05-22</td>\n",
              "      <td>06:19:00</td>\n",
              "      <td>06:29:00</td>\n",
              "      <td>Elizabeth Oswald</td>\n",
              "      <td>...</td>\n",
              "      <td>93634</td>\n",
              "      <td>OROR</td>\n",
              "      <td>False</td>\n",
              "      <td>False</td>\n",
              "      <td>19.9</td>\n",
              "      <td>79.400002</td>\n",
              "      <td>Cloudy/Overcast</td>\n",
              "      <td>Calm (&lt; 1 mph) smoke rises vertically</td>\n",
              "      <td>No effect on count</td>\n",
              "      <td>False</td>\n",
              "    </tr>\n",
              "    <tr>\n",
              "      <th>4</th>\n",
              "      <td>ANTI</td>\n",
              "      <td>NaN</td>\n",
              "      <td>ANTI 1</td>\n",
              "      <td>ANTI-0036</td>\n",
              "      <td>Forest</td>\n",
              "      <td>2018</td>\n",
              "      <td>2018-05-22</td>\n",
              "      <td>06:19:00</td>\n",
              "      <td>06:29:00</td>\n",
              "      <td>Elizabeth Oswald</td>\n",
              "      <td>...</td>\n",
              "      <td>88394</td>\n",
              "      <td>NOMO</td>\n",
              "      <td>False</td>\n",
              "      <td>False</td>\n",
              "      <td>19.9</td>\n",
              "      <td>79.400002</td>\n",
              "      <td>Cloudy/Overcast</td>\n",
              "      <td>Calm (&lt; 1 mph) smoke rises vertically</td>\n",
              "      <td>No effect on count</td>\n",
              "      <td>False</td>\n",
              "    </tr>\n",
              "  </tbody>\n",
              "</table>\n",
              "<p>5 rows × 29 columns</p>\n",
              "</div>\n",
              "    <div class=\"colab-df-buttons\">\n",
              "\n",
              "  <div class=\"colab-df-container\">\n",
              "    <button class=\"colab-df-convert\" onclick=\"convertToInteractive('df-e7d0d8fd-41a1-4bd1-a846-fe4303ef8aa5')\"\n",
              "            title=\"Convert this dataframe to an interactive table.\"\n",
              "            style=\"display:none;\">\n",
              "\n",
              "  <svg xmlns=\"http://www.w3.org/2000/svg\" height=\"24px\" viewBox=\"0 -960 960 960\">\n",
              "    <path d=\"M120-120v-720h720v720H120Zm60-500h600v-160H180v160Zm220 220h160v-160H400v160Zm0 220h160v-160H400v160ZM180-400h160v-160H180v160Zm440 0h160v-160H620v160ZM180-180h160v-160H180v160Zm440 0h160v-160H620v160Z\"/>\n",
              "  </svg>\n",
              "    </button>\n",
              "\n",
              "  <style>\n",
              "    .colab-df-container {\n",
              "      display:flex;\n",
              "      gap: 12px;\n",
              "    }\n",
              "\n",
              "    .colab-df-convert {\n",
              "      background-color: #E8F0FE;\n",
              "      border: none;\n",
              "      border-radius: 50%;\n",
              "      cursor: pointer;\n",
              "      display: none;\n",
              "      fill: #1967D2;\n",
              "      height: 32px;\n",
              "      padding: 0 0 0 0;\n",
              "      width: 32px;\n",
              "    }\n",
              "\n",
              "    .colab-df-convert:hover {\n",
              "      background-color: #E2EBFA;\n",
              "      box-shadow: 0px 1px 2px rgba(60, 64, 67, 0.3), 0px 1px 3px 1px rgba(60, 64, 67, 0.15);\n",
              "      fill: #174EA6;\n",
              "    }\n",
              "\n",
              "    .colab-df-buttons div {\n",
              "      margin-bottom: 4px;\n",
              "    }\n",
              "\n",
              "    [theme=dark] .colab-df-convert {\n",
              "      background-color: #3B4455;\n",
              "      fill: #D2E3FC;\n",
              "    }\n",
              "\n",
              "    [theme=dark] .colab-df-convert:hover {\n",
              "      background-color: #434B5C;\n",
              "      box-shadow: 0px 1px 3px 1px rgba(0, 0, 0, 0.15);\n",
              "      filter: drop-shadow(0px 1px 2px rgba(0, 0, 0, 0.3));\n",
              "      fill: #FFFFFF;\n",
              "    }\n",
              "  </style>\n",
              "\n",
              "    <script>\n",
              "      const buttonEl =\n",
              "        document.querySelector('#df-e7d0d8fd-41a1-4bd1-a846-fe4303ef8aa5 button.colab-df-convert');\n",
              "      buttonEl.style.display =\n",
              "        google.colab.kernel.accessAllowed ? 'block' : 'none';\n",
              "\n",
              "      async function convertToInteractive(key) {\n",
              "        const element = document.querySelector('#df-e7d0d8fd-41a1-4bd1-a846-fe4303ef8aa5');\n",
              "        const dataTable =\n",
              "          await google.colab.kernel.invokeFunction('convertToInteractive',\n",
              "                                                    [key], {});\n",
              "        if (!dataTable) return;\n",
              "\n",
              "        const docLinkHtml = 'Like what you see? Visit the ' +\n",
              "          '<a target=\"_blank\" href=https://colab.research.google.com/notebooks/data_table.ipynb>data table notebook</a>'\n",
              "          + ' to learn more about interactive tables.';\n",
              "        element.innerHTML = '';\n",
              "        dataTable['output_type'] = 'display_data';\n",
              "        await google.colab.output.renderOutput(dataTable, element);\n",
              "        const docLink = document.createElement('div');\n",
              "        docLink.innerHTML = docLinkHtml;\n",
              "        element.appendChild(docLink);\n",
              "      }\n",
              "    </script>\n",
              "  </div>\n",
              "\n",
              "\n",
              "    <div id=\"df-c77d97c4-d9a7-456a-8d74-28da4476c85f\">\n",
              "      <button class=\"colab-df-quickchart\" onclick=\"quickchart('df-c77d97c4-d9a7-456a-8d74-28da4476c85f')\"\n",
              "                title=\"Suggest charts\"\n",
              "                style=\"display:none;\">\n",
              "\n",
              "<svg xmlns=\"http://www.w3.org/2000/svg\" height=\"24px\"viewBox=\"0 0 24 24\"\n",
              "     width=\"24px\">\n",
              "    <g>\n",
              "        <path d=\"M19 3H5c-1.1 0-2 .9-2 2v14c0 1.1.9 2 2 2h14c1.1 0 2-.9 2-2V5c0-1.1-.9-2-2-2zM9 17H7v-7h2v7zm4 0h-2V7h2v10zm4 0h-2v-4h2v4z\"/>\n",
              "    </g>\n",
              "</svg>\n",
              "      </button>\n",
              "\n",
              "<style>\n",
              "  .colab-df-quickchart {\n",
              "      --bg-color: #E8F0FE;\n",
              "      --fill-color: #1967D2;\n",
              "      --hover-bg-color: #E2EBFA;\n",
              "      --hover-fill-color: #174EA6;\n",
              "      --disabled-fill-color: #AAA;\n",
              "      --disabled-bg-color: #DDD;\n",
              "  }\n",
              "\n",
              "  [theme=dark] .colab-df-quickchart {\n",
              "      --bg-color: #3B4455;\n",
              "      --fill-color: #D2E3FC;\n",
              "      --hover-bg-color: #434B5C;\n",
              "      --hover-fill-color: #FFFFFF;\n",
              "      --disabled-bg-color: #3B4455;\n",
              "      --disabled-fill-color: #666;\n",
              "  }\n",
              "\n",
              "  .colab-df-quickchart {\n",
              "    background-color: var(--bg-color);\n",
              "    border: none;\n",
              "    border-radius: 50%;\n",
              "    cursor: pointer;\n",
              "    display: none;\n",
              "    fill: var(--fill-color);\n",
              "    height: 32px;\n",
              "    padding: 0;\n",
              "    width: 32px;\n",
              "  }\n",
              "\n",
              "  .colab-df-quickchart:hover {\n",
              "    background-color: var(--hover-bg-color);\n",
              "    box-shadow: 0 1px 2px rgba(60, 64, 67, 0.3), 0 1px 3px 1px rgba(60, 64, 67, 0.15);\n",
              "    fill: var(--button-hover-fill-color);\n",
              "  }\n",
              "\n",
              "  .colab-df-quickchart-complete:disabled,\n",
              "  .colab-df-quickchart-complete:disabled:hover {\n",
              "    background-color: var(--disabled-bg-color);\n",
              "    fill: var(--disabled-fill-color);\n",
              "    box-shadow: none;\n",
              "  }\n",
              "\n",
              "  .colab-df-spinner {\n",
              "    border: 2px solid var(--fill-color);\n",
              "    border-color: transparent;\n",
              "    border-bottom-color: var(--fill-color);\n",
              "    animation:\n",
              "      spin 1s steps(1) infinite;\n",
              "  }\n",
              "\n",
              "  @keyframes spin {\n",
              "    0% {\n",
              "      border-color: transparent;\n",
              "      border-bottom-color: var(--fill-color);\n",
              "      border-left-color: var(--fill-color);\n",
              "    }\n",
              "    20% {\n",
              "      border-color: transparent;\n",
              "      border-left-color: var(--fill-color);\n",
              "      border-top-color: var(--fill-color);\n",
              "    }\n",
              "    30% {\n",
              "      border-color: transparent;\n",
              "      border-left-color: var(--fill-color);\n",
              "      border-top-color: var(--fill-color);\n",
              "      border-right-color: var(--fill-color);\n",
              "    }\n",
              "    40% {\n",
              "      border-color: transparent;\n",
              "      border-right-color: var(--fill-color);\n",
              "      border-top-color: var(--fill-color);\n",
              "    }\n",
              "    60% {\n",
              "      border-color: transparent;\n",
              "      border-right-color: var(--fill-color);\n",
              "    }\n",
              "    80% {\n",
              "      border-color: transparent;\n",
              "      border-right-color: var(--fill-color);\n",
              "      border-bottom-color: var(--fill-color);\n",
              "    }\n",
              "    90% {\n",
              "      border-color: transparent;\n",
              "      border-bottom-color: var(--fill-color);\n",
              "    }\n",
              "  }\n",
              "</style>\n",
              "\n",
              "      <script>\n",
              "        async function quickchart(key) {\n",
              "          const quickchartButtonEl =\n",
              "            document.querySelector('#' + key + ' button');\n",
              "          quickchartButtonEl.disabled = true;  // To prevent multiple clicks.\n",
              "          quickchartButtonEl.classList.add('colab-df-spinner');\n",
              "          try {\n",
              "            const charts = await google.colab.kernel.invokeFunction(\n",
              "                'suggestCharts', [key], {});\n",
              "          } catch (error) {\n",
              "            console.error('Error during call to suggestCharts:', error);\n",
              "          }\n",
              "          quickchartButtonEl.classList.remove('colab-df-spinner');\n",
              "          quickchartButtonEl.classList.add('colab-df-quickchart-complete');\n",
              "        }\n",
              "        (() => {\n",
              "          let quickchartButtonEl =\n",
              "            document.querySelector('#df-c77d97c4-d9a7-456a-8d74-28da4476c85f button');\n",
              "          quickchartButtonEl.style.display =\n",
              "            google.colab.kernel.accessAllowed ? 'block' : 'none';\n",
              "        })();\n",
              "      </script>\n",
              "    </div>\n",
              "\n",
              "    </div>\n",
              "  </div>\n"
            ],
            "application/vnd.google.colaboratory.intrinsic+json": {
              "type": "dataframe",
              "variable_name": "df"
            }
          },
          "metadata": {},
          "execution_count": 4
        }
      ],
      "source": [
        "from google.colab import files\n",
        "uploaded = files.upload()\n",
        "df = pd.read_excel('/content/Bird_Monitoring_Data_FOREST.XLSX')\n",
        "df.head()"
      ]
    },
    {
      "cell_type": "code",
      "execution_count": null,
      "metadata": {
        "colab": {
          "base_uri": "https://localhost:8080/"
        },
        "id": "TmRTJ7-ZOq41",
        "outputId": "dc4f17b9-ea7a-4664-f25e-09c3b794cc66"
      },
      "outputs": [
        {
          "output_type": "execute_result",
          "data": {
            "text/plain": [
              "(333, 29)"
            ]
          },
          "metadata": {},
          "execution_count": 41
        }
      ],
      "source": [
        "df.shape"
      ]
    },
    {
      "cell_type": "markdown",
      "source": [
        "# FINDING  OUTLIERS"
      ],
      "metadata": {
        "id": "eND1dDMxOHvM"
      }
    },
    {
      "cell_type": "code",
      "execution_count": null,
      "metadata": {
        "id": "ewkVpdwROuCc",
        "colab": {
          "base_uri": "https://localhost:8080/",
          "height": 428
        },
        "outputId": "d5ea568d-4937-42cc-ace6-fca41457b7d3"
      },
      "outputs": [
        {
          "output_type": "execute_result",
          "data": {
            "text/plain": [
              "<Axes: ylabel='Temperature'>"
            ]
          },
          "metadata": {},
          "execution_count": 7
        },
        {
          "output_type": "display_data",
          "data": {
            "text/plain": [
              "<Figure size 640x480 with 1 Axes>"
            ],
            "image/png": "[encoded data removed]"
          },
          "metadata": {}
        }
      ],
      "source": [
        "sns.boxplot(df[\"Temperature\"])"
      ]
    },
    {
      "cell_type": "code",
      "source": [
        "sns.distplot(df[\"Temperature\"])"
      ],
      "metadata": {
        "id": "y7INdPZtpeZH",
        "colab": {
          "base_uri": "https://localhost:8080/",
          "height": 657
        },
        "outputId": "92d1df49-3570-4da4-8704-fc2e4d22e38c"
      },
      "execution_count": null,
      "outputs": [
        {
          "output_type": "stream",
          "name": "stderr",
          "text": [
            "<ipython-input-8-b4508da60903>:1: UserWarning: \n",
            "\n",
            "`distplot` is a deprecated function and will be removed in seaborn v0.14.0.\n",
            "\n",
            "Please adapt your code to use either `displot` (a figure-level function with\n",
            "similar flexibility) or `histplot` (an axes-level function for histograms).\n",
            "\n",
            "For a guide to updating your code to use the new functions, please see\n",
            "https://gist.github.com/mwaskom/de44147ed2974457ad6372750bbe5751\n",
            "\n",
            "  sns.distplot(df[\"Temperature\"])\n"
          ]
        },
        {
          "output_type": "execute_result",
          "data": {
            "text/plain": [
              "<Axes: xlabel='Temperature', ylabel='Density'>"
            ]
          },
          "metadata": {},
          "execution_count": 8
        },
        {
          "output_type": "display_data",
          "data": {
            "text/plain": [
              "<Figure size 640x480 with 1 Axes>"
            ],
            "image/png": "[encoded data removed]"
          },
          "metadata": {}
        }
      ]
    },
    {
      "cell_type": "code",
      "source": [
        "sns.boxplot(df[\"Humidity\"])"
      ],
      "metadata": {
        "colab": {
          "base_uri": "https://localhost:8080/",
          "height": 428
        },
        "id": "Ar86wht1przv",
        "outputId": "1bb0b0f5-6738-48d2-a2fe-bbd4e0c1d478"
      },
      "execution_count": null,
      "outputs": [
        {
          "output_type": "execute_result",
          "data": {
            "text/plain": [
              "<Axes: ylabel='Humidity'>"
            ]
          },
          "metadata": {},
          "execution_count": 9
        },
        {
          "output_type": "display_data",
          "data": {
            "text/plain": [
              "<Figure size 640x480 with 1 Axes>"
            ],
            "image/png": "[encoded data removed]"
          },
          "metadata": {}
        }
      ]
    },
    {
      "cell_type": "code",
      "source": [
        "sns.distplot(df[\"Humidity\"])"
      ],
      "metadata": {
        "colab": {
          "base_uri": "https://localhost:8080/",
          "height": 657
        },
        "id": "mD4SqOC0p7Wd",
        "outputId": "b16b64c0-8717-4e87-85ab-9bfc689ca938"
      },
      "execution_count": null,
      "outputs": [
        {
          "output_type": "stream",
          "name": "stderr",
          "text": [
            "<ipython-input-10-4e081bf636e1>:1: UserWarning: \n",
            "\n",
            "`distplot` is a deprecated function and will be removed in seaborn v0.14.0.\n",
            "\n",
            "Please adapt your code to use either `displot` (a figure-level function with\n",
            "similar flexibility) or `histplot` (an axes-level function for histograms).\n",
            "\n",
            "For a guide to updating your code to use the new functions, please see\n",
            "https://gist.github.com/mwaskom/de44147ed2974457ad6372750bbe5751\n",
            "\n",
            "  sns.distplot(df[\"Humidity\"])\n"
          ]
        },
        {
          "output_type": "execute_result",
          "data": {
            "text/plain": [
              "<Axes: xlabel='Humidity', ylabel='Density'>"
            ]
          },
          "metadata": {},
          "execution_count": 10
        },
        {
          "output_type": "display_data",
          "data": {
            "text/plain": [
              "<Figure size 640x480 with 1 Axes>"
            ],
            "image/png": "[encoded data removed]"
          },
          "metadata": {}
        }
      ]
    },
    {
      "cell_type": "code",
      "source": [
        "df.info()"
      ],
      "metadata": {
        "colab": {
          "base_uri": "https://localhost:8080/"
        },
        "id": "MX2U4JOWPG08",
        "outputId": "cfd0fc29-b56c-4e9a-cd2d-0eeeef5761a4"
      },
      "execution_count": 48,
      "outputs": [
        {
          "output_type": "stream",
          "name": "stdout",
          "text": [
            "<class 'pandas.core.frame.DataFrame'>\n",
            "RangeIndex: 333 entries, 0 to 332\n",
            "Data columns (total 29 columns):\n",
            " #   Column                       Non-Null Count  Dtype         \n",
            "---  ------                       --------------  -----         \n",
            " 0   Admin_Unit_Code              333 non-null    object        \n",
            " 1   Sub_Unit_Code                0 non-null      float64       \n",
            " 2   Site_Name                    333 non-null    object        \n",
            " 3   Plot_Name                    333 non-null    object        \n",
            " 4   Location_Type                333 non-null    object        \n",
            " 5   Year                         333 non-null    int32         \n",
            " 6   Date                         333 non-null    datetime64[ns]\n",
            " 7   Start_Time                   333 non-null    object        \n",
            " 8   End_Time                     333 non-null    object        \n",
            " 9   Observer                     333 non-null    object        \n",
            " 10  Visit                        333 non-null    int64         \n",
            " 11  Interval_Length              333 non-null    object        \n",
            " 12  ID_Method                    333 non-null    object        \n",
            " 13  Distance                     328 non-null    object        \n",
            " 14  Flyover_Observed             333 non-null    bool          \n",
            " 15  Sex                          112 non-null    object        \n",
            " 16  Common_Name                  333 non-null    object        \n",
            " 17  Scientific_Name              333 non-null    object        \n",
            " 18  AcceptedTSN                  332 non-null    float64       \n",
            " 19  NPSTaxonCode                 333 non-null    int64         \n",
            " 20  AOU_Code                     333 non-null    object        \n",
            " 21  PIF_Watchlist_Status         333 non-null    bool          \n",
            " 22  Regional_Stewardship_Status  333 non-null    bool          \n",
            " 23  Temperature                  333 non-null    float64       \n",
            " 24  Humidity                     333 non-null    float64       \n",
            " 25  Sky                          333 non-null    object        \n",
            " 26  Wind                         333 non-null    object        \n",
            " 27  Disturbance                  333 non-null    object        \n",
            " 28  Initial_Three_Min_Cnt        333 non-null    bool          \n",
            "dtypes: bool(4), datetime64[ns](1), float64(4), int32(1), int64(2), object(17)\n",
            "memory usage: 65.2+ KB\n"
          ]
        }
      ]
    },
    {
      "cell_type": "code",
      "source": [
        "df.describe()"
      ],
      "metadata": {
        "colab": {
          "base_uri": "https://localhost:8080/",
          "height": 300
        },
        "id": "Xq1SYfETPN1k",
        "outputId": "6bf9d042-d6ec-46e5-c61e-0d24049631fe"
      },
      "execution_count": 49,
      "outputs": [
        {
          "output_type": "execute_result",
          "data": {
            "text/plain": [
              "       Sub_Unit_Code    Year                           Date       Visit  \\\n",
              "count            0.0   333.0                            333  333.000000   \n",
              "mean             NaN  2018.0  2018-06-09 06:37:50.270270208    1.507508   \n",
              "min              NaN  2018.0            2018-05-22 00:00:00    1.000000   \n",
              "25%              NaN  2018.0            2018-05-24 00:00:00    1.000000   \n",
              "50%              NaN  2018.0            2018-06-25 00:00:00    2.000000   \n",
              "75%              NaN  2018.0            2018-06-26 00:00:00    2.000000   \n",
              "max              NaN  2018.0            2018-06-26 00:00:00    2.000000   \n",
              "std              NaN     0.0                            NaN    0.500696   \n",
              "\n",
              "         AcceptedTSN   NPSTaxonCode  Temperature    Humidity  \n",
              "count     332.000000     333.000000   333.000000  333.000000  \n",
              "mean   218567.036145  112177.567568    21.873273   71.366067  \n",
              "min    176136.000000   82737.000000    14.000000   49.599998  \n",
              "25%    178359.000000   85791.000000    17.900000   61.200001  \n",
              "50%    179124.000000   88071.000000    22.400000   69.500000  \n",
              "75%    179443.000000   94228.000000    25.900000   79.400002  \n",
              "max    950039.000000  926917.000000    29.600000   91.800003  \n",
              "std    123287.306891   88740.680703     4.599460   12.667762  "
            ],
            "text/html": [
              "\n",
              "  <div id=\"df-32b8bd65-f8e8-4c78-8d28-6dc49657d5c4\" class=\"colab-df-container\">\n",
              "    <div>\n",
              "<style scoped>\n",
              "    .dataframe tbody tr th:only-of-type {\n",
              "        vertical-align: middle;\n",
              "    }\n",
              "\n",
              "    .dataframe tbody tr th {\n",
              "        vertical-align: top;\n",
              "    }\n",
              "\n",
              "    .dataframe thead th {\n",
              "        text-align: right;\n",
              "    }\n",
              "</style>\n",
              "<table border=\"1\" class=\"dataframe\">\n",
              "  <thead>\n",
              "    <tr style=\"text-align: right;\">\n",
              "      <th></th>\n",
              "      <th>Sub_Unit_Code</th>\n",
              "      <th>Year</th>\n",
              "      <th>Date</th>\n",
              "      <th>Visit</th>\n",
              "      <th>AcceptedTSN</th>\n",
              "      <th>NPSTaxonCode</th>\n",
              "      <th>Temperature</th>\n",
              "      <th>Humidity</th>\n",
              "    </tr>\n",
              "  </thead>\n",
              "  <tbody>\n",
              "    <tr>\n",
              "      <th>count</th>\n",
              "      <td>0.0</td>\n",
              "      <td>333.0</td>\n",
              "      <td>333</td>\n",
              "      <td>333.000000</td>\n",
              "      <td>332.000000</td>\n",
              "      <td>333.000000</td>\n",
              "      <td>333.000000</td>\n",
              "      <td>333.000000</td>\n",
              "    </tr>\n",
              "    <tr>\n",
              "      <th>mean</th>\n",
              "      <td>NaN</td>\n",
              "      <td>2018.0</td>\n",
              "      <td>2018-06-09 06:37:50.270270208</td>\n",
              "      <td>1.507508</td>\n",
              "      <td>218567.036145</td>\n",
              "      <td>112177.567568</td>\n",
              "      <td>21.873273</td>\n",
              "      <td>71.366067</td>\n",
              "    </tr>\n",
              "    <tr>\n",
              "      <th>min</th>\n",
              "      <td>NaN</td>\n",
              "      <td>2018.0</td>\n",
              "      <td>2018-05-22 00:00:00</td>\n",
              "      <td>1.000000</td>\n",
              "      <td>176136.000000</td>\n",
              "      <td>82737.000000</td>\n",
              "      <td>14.000000</td>\n",
              "      <td>49.599998</td>\n",
              "    </tr>\n",
              "    <tr>\n",
              "      <th>25%</th>\n",
              "      <td>NaN</td>\n",
              "      <td>2018.0</td>\n",
              "      <td>2018-05-24 00:00:00</td>\n",
              "      <td>1.000000</td>\n",
              "      <td>178359.000000</td>\n",
              "      <td>85791.000000</td>\n",
              "      <td>17.900000</td>\n",
              "      <td>61.200001</td>\n",
              "    </tr>\n",
              "    <tr>\n",
              "      <th>50%</th>\n",
              "      <td>NaN</td>\n",
              "      <td>2018.0</td>\n",
              "      <td>2018-06-25 00:00:00</td>\n",
              "      <td>2.000000</td>\n",
              "      <td>179124.000000</td>\n",
              "      <td>88071.000000</td>\n",
              "      <td>22.400000</td>\n",
              "      <td>69.500000</td>\n",
              "    </tr>\n",
              "    <tr>\n",
              "      <th>75%</th>\n",
              "      <td>NaN</td>\n",
              "      <td>2018.0</td>\n",
              "      <td>2018-06-26 00:00:00</td>\n",
              "      <td>2.000000</td>\n",
              "      <td>179443.000000</td>\n",
              "      <td>94228.000000</td>\n",
              "      <td>25.900000</td>\n",
              "      <td>79.400002</td>\n",
              "    </tr>\n",
              "    <tr>\n",
              "      <th>max</th>\n",
              "      <td>NaN</td>\n",
              "      <td>2018.0</td>\n",
              "      <td>2018-06-26 00:00:00</td>\n",
              "      <td>2.000000</td>\n",
              "      <td>950039.000000</td>\n",
              "      <td>926917.000000</td>\n",
              "      <td>29.600000</td>\n",
              "      <td>91.800003</td>\n",
              "    </tr>\n",
              "    <tr>\n",
              "      <th>std</th>\n",
              "      <td>NaN</td>\n",
              "      <td>0.0</td>\n",
              "      <td>NaN</td>\n",
              "      <td>0.500696</td>\n",
              "      <td>123287.306891</td>\n",
              "      <td>88740.680703</td>\n",
              "      <td>4.599460</td>\n",
              "      <td>12.667762</td>\n",
              "    </tr>\n",
              "  </tbody>\n",
              "</table>\n",
              "</div>\n",
              "    <div class=\"colab-df-buttons\">\n",
              "\n",
              "  <div class=\"colab-df-container\">\n",
              "    <button class=\"colab-df-convert\" onclick=\"convertToInteractive('df-32b8bd65-f8e8-4c78-8d28-6dc49657d5c4')\"\n",
              "            title=\"Convert this dataframe to an interactive table.\"\n",
              "            style=\"display:none;\">\n",
              "\n",
              "  <svg xmlns=\"http://www.w3.org/2000/svg\" height=\"24px\" viewBox=\"0 -960 960 960\">\n",
              "    <path d=\"M120-120v-720h720v720H120Zm60-500h600v-160H180v160Zm220 220h160v-160H400v160Zm0 220h160v-160H400v160ZM180-400h160v-160H180v160Zm440 0h160v-160H620v160ZM180-180h160v-160H180v160Zm440 0h160v-160H620v160Z\"/>\n",
              "  </svg>\n",
              "    </button>\n",
              "\n",
              "  <style>\n",
              "    .colab-df-container {\n",
              "      display:flex;\n",
              "      gap: 12px;\n",
              "    }\n",
              "\n",
              "    .colab-df-convert {\n",
              "      background-color: #E8F0FE;\n",
              "      border: none;\n",
              "      border-radius: 50%;\n",
              "      cursor: pointer;\n",
              "      display: none;\n",
              "      fill: #1967D2;\n",
              "      height: 32px;\n",
              "      padding: 0 0 0 0;\n",
              "      width: 32px;\n",
              "    }\n",
              "\n",
              "    .colab-df-convert:hover {\n",
              "      background-color: #E2EBFA;\n",
              "      box-shadow: 0px 1px 2px rgba(60, 64, 67, 0.3), 0px 1px 3px 1px rgba(60, 64, 67, 0.15);\n",
              "      fill: #174EA6;\n",
              "    }\n",
              "\n",
              "    .colab-df-buttons div {\n",
              "      margin-bottom: 4px;\n",
              "    }\n",
              "\n",
              "    [theme=dark] .colab-df-convert {\n",
              "      background-color: #3B4455;\n",
              "      fill: #D2E3FC;\n",
              "    }\n",
              "\n",
              "    [theme=dark] .colab-df-convert:hover {\n",
              "      background-color: #434B5C;\n",
              "      box-shadow: 0px 1px 3px 1px rgba(0, 0, 0, 0.15);\n",
              "      filter: drop-shadow(0px 1px 2px rgba(0, 0, 0, 0.3));\n",
              "      fill: #FFFFFF;\n",
              "    }\n",
              "  </style>\n",
              "\n",
              "    <script>\n",
              "      const buttonEl =\n",
              "        document.querySelector('#df-32b8bd65-f8e8-4c78-8d28-6dc49657d5c4 button.colab-df-convert');\n",
              "      buttonEl.style.display =\n",
              "        google.colab.kernel.accessAllowed ? 'block' : 'none';\n",
              "\n",
              "      async function convertToInteractive(key) {\n",
              "        const element = document.querySelector('#df-32b8bd65-f8e8-4c78-8d28-6dc49657d5c4');\n",
              "        const dataTable =\n",
              "          await google.colab.kernel.invokeFunction('convertToInteractive',\n",
              "                                                    [key], {});\n",
              "        if (!dataTable) return;\n",
              "\n",
              "        const docLinkHtml = 'Like what you see? Visit the ' +\n",
              "          '<a target=\"_blank\" href=https://colab.research.google.com/notebooks/data_table.ipynb>data table notebook</a>'\n",
              "          + ' to learn more about interactive tables.';\n",
              "        element.innerHTML = '';\n",
              "        dataTable['output_type'] = 'display_data';\n",
              "        await google.colab.output.renderOutput(dataTable, element);\n",
              "        const docLink = document.createElement('div');\n",
              "        docLink.innerHTML = docLinkHtml;\n",
              "        element.appendChild(docLink);\n",
              "      }\n",
              "    </script>\n",
              "  </div>\n",
              "\n",
              "\n",
              "    <div id=\"df-1631f8eb-c193-4f66-a11e-52ce19be4bf4\">\n",
              "      <button class=\"colab-df-quickchart\" onclick=\"quickchart('df-1631f8eb-c193-4f66-a11e-52ce19be4bf4')\"\n",
              "                title=\"Suggest charts\"\n",
              "                style=\"display:none;\">\n",
              "\n",
              "<svg xmlns=\"http://www.w3.org/2000/svg\" height=\"24px\"viewBox=\"0 0 24 24\"\n",
              "     width=\"24px\">\n",
              "    <g>\n",
              "        <path d=\"M19 3H5c-1.1 0-2 .9-2 2v14c0 1.1.9 2 2 2h14c1.1 0 2-.9 2-2V5c0-1.1-.9-2-2-2zM9 17H7v-7h2v7zm4 0h-2V7h2v10zm4 0h-2v-4h2v4z\"/>\n",
              "    </g>\n",
              "</svg>\n",
              "      </button>\n",
              "\n",
              "<style>\n",
              "  .colab-df-quickchart {\n",
              "      --bg-color: #E8F0FE;\n",
              "      --fill-color: #1967D2;\n",
              "      --hover-bg-color: #E2EBFA;\n",
              "      --hover-fill-color: #174EA6;\n",
              "      --disabled-fill-color: #AAA;\n",
              "      --disabled-bg-color: #DDD;\n",
              "  }\n",
              "\n",
              "  [theme=dark] .colab-df-quickchart {\n",
              "      --bg-color: #3B4455;\n",
              "      --fill-color: #D2E3FC;\n",
              "      --hover-bg-color: #434B5C;\n",
              "      --hover-fill-color: #FFFFFF;\n",
              "      --disabled-bg-color: #3B4455;\n",
              "      --disabled-fill-color: #666;\n",
              "  }\n",
              "\n",
              "  .colab-df-quickchart {\n",
              "    background-color: var(--bg-color);\n",
              "    border: none;\n",
              "    border-radius: 50%;\n",
              "    cursor: pointer;\n",
              "    display: none;\n",
              "    fill: var(--fill-color);\n",
              "    height: 32px;\n",
              "    padding: 0;\n",
              "    width: 32px;\n",
              "  }\n",
              "\n",
              "  .colab-df-quickchart:hover {\n",
              "    background-color: var(--hover-bg-color);\n",
              "    box-shadow: 0 1px 2px rgba(60, 64, 67, 0.3), 0 1px 3px 1px rgba(60, 64, 67, 0.15);\n",
              "    fill: var(--button-hover-fill-color);\n",
              "  }\n",
              "\n",
              "  .colab-df-quickchart-complete:disabled,\n",
              "  .colab-df-quickchart-complete:disabled:hover {\n",
              "    background-color: var(--disabled-bg-color);\n",
              "    fill: var(--disabled-fill-color);\n",
              "    box-shadow: none;\n",
              "  }\n",
              "\n",
              "  .colab-df-spinner {\n",
              "    border: 2px solid var(--fill-color);\n",
              "    border-color: transparent;\n",
              "    border-bottom-color: var(--fill-color);\n",
              "    animation:\n",
              "      spin 1s steps(1) infinite;\n",
              "  }\n",
              "\n",
              "  @keyframes spin {\n",
              "    0% {\n",
              "      border-color: transparent;\n",
              "      border-bottom-color: var(--fill-color);\n",
              "      border-left-color: var(--fill-color);\n",
              "    }\n",
              "    20% {\n",
              "      border-color: transparent;\n",
              "      border-left-color: var(--fill-color);\n",
              "      border-top-color: var(--fill-color);\n",
              "    }\n",
              "    30% {\n",
              "      border-color: transparent;\n",
              "      border-left-color: var(--fill-color);\n",
              "      border-top-color: var(--fill-color);\n",
              "      border-right-color: var(--fill-color);\n",
              "    }\n",
              "    40% {\n",
              "      border-color: transparent;\n",
              "      border-right-color: var(--fill-color);\n",
              "      border-top-color: var(--fill-color);\n",
              "    }\n",
              "    60% {\n",
              "      border-color: transparent;\n",
              "      border-right-color: var(--fill-color);\n",
              "    }\n",
              "    80% {\n",
              "      border-color: transparent;\n",
              "      border-right-color: var(--fill-color);\n",
              "      border-bottom-color: var(--fill-color);\n",
              "    }\n",
              "    90% {\n",
              "      border-color: transparent;\n",
              "      border-bottom-color: var(--fill-color);\n",
              "    }\n",
              "  }\n",
              "</style>\n",
              "\n",
              "      <script>\n",
              "        async function quickchart(key) {\n",
              "          const quickchartButtonEl =\n",
              "            document.querySelector('#' + key + ' button');\n",
              "          quickchartButtonEl.disabled = true;  // To prevent multiple clicks.\n",
              "          quickchartButtonEl.classList.add('colab-df-spinner');\n",
              "          try {\n",
              "            const charts = await google.colab.kernel.invokeFunction(\n",
              "                'suggestCharts', [key], {});\n",
              "          } catch (error) {\n",
              "            console.error('Error during call to suggestCharts:', error);\n",
              "          }\n",
              "          quickchartButtonEl.classList.remove('colab-df-spinner');\n",
              "          quickchartButtonEl.classList.add('colab-df-quickchart-complete');\n",
              "        }\n",
              "        (() => {\n",
              "          let quickchartButtonEl =\n",
              "            document.querySelector('#df-1631f8eb-c193-4f66-a11e-52ce19be4bf4 button');\n",
              "          quickchartButtonEl.style.display =\n",
              "            google.colab.kernel.accessAllowed ? 'block' : 'none';\n",
              "        })();\n",
              "      </script>\n",
              "    </div>\n",
              "\n",
              "    </div>\n",
              "  </div>\n"
            ],
            "application/vnd.google.colaboratory.intrinsic+json": {
              "type": "dataframe",
              "summary": "{\n  \"name\": \"df\",\n  \"rows\": 8,\n  \"fields\": [\n    {\n      \"column\": \"Sub_Unit_Code\",\n      \"properties\": {\n        \"dtype\": \"number\",\n        \"std\": null,\n        \"min\": 0.0,\n        \"max\": 0.0,\n        \"num_unique_values\": 1,\n        \"samples\": [\n          0.0\n        ],\n        \"semantic_type\": \"\",\n        \"description\": \"\"\n      }\n    },\n    {\n      \"column\": \"Year\",\n      \"properties\": {\n        \"dtype\": \"number\",\n        \"std\": 861.686293181656,\n        \"min\": 0.0,\n        \"max\": 2018.0,\n        \"num_unique_values\": 3,\n        \"samples\": [\n          333.0\n        ],\n        \"semantic_type\": \"\",\n        \"description\": \"\"\n      }\n    },\n    {\n      \"column\": \"Date\",\n      \"properties\": {\n        \"dtype\": \"date\",\n        \"min\": \"1970-01-01 00:00:00.000000333\",\n        \"max\": \"2018-06-26 00:00:00\",\n        \"num_unique_values\": 6,\n        \"samples\": [\n          \"333\"\n        ],\n        \"semantic_type\": \"\",\n        \"description\": \"\"\n      }\n    },\n    {\n      \"column\": \"Visit\",\n      \"properties\": {\n        \"dtype\": \"number\",\n        \"std\": 117.229137538775,\n        \"min\": 0.500695995202821,\n        \"max\": 333.0,\n        \"num_unique_values\": 5,\n        \"samples\": [\n          1.5075075075075075\n        ],\n        \"semantic_type\": \"\",\n        \"description\": \"\"\n      }\n    },\n    {\n      \"column\": \"AcceptedTSN\",\n      \"properties\": {\n        \"dtype\": \"number\",\n        \"std\": 290324.7875986037,\n        \"min\": 332.0,\n        \"max\": 950039.0,\n        \"num_unique_values\": 8,\n        \"samples\": [\n          218567.0361445783\n        ],\n        \"semantic_type\": \"\",\n        \"description\": \"\"\n      }\n    },\n    {\n      \"column\": \"NPSTaxonCode\",\n      \"properties\": {\n        \"dtype\": \"number\",\n        \"std\": 301673.0743890104,\n        \"min\": 333.0,\n        \"max\": 926917.0,\n        \"num_unique_values\": 8,\n        \"samples\": [\n          112177.56756756757\n        ],\n        \"semantic_type\": \"\",\n        \"description\": \"\"\n      }\n    },\n    {\n      \"column\": \"Temperature\",\n      \"properties\": {\n        \"dtype\": \"number\",\n        \"std\": 111.11552730611083,\n        \"min\": 4.599460460635869,\n        \"max\": 333.0,\n        \"num_unique_values\": 8,\n        \"samples\": [\n          21.873273190793334\n        ],\n        \"semantic_type\": \"\",\n        \"description\": \"\"\n      }\n    },\n    {\n      \"column\": \"Humidity\",\n      \"properties\": {\n        \"dtype\": \"number\",\n        \"std\": 98.61867894873248,\n        \"min\": 12.667762462671995,\n        \"max\": 333.0,\n        \"num_unique_values\": 8,\n        \"samples\": [\n          71.36606689544769\n        ],\n        \"semantic_type\": \"\",\n        \"description\": \"\"\n      }\n    }\n  ]\n}"
            }
          },
          "metadata": {},
          "execution_count": 49
        }
      ]
    },
    {
      "cell_type": "code",
      "source": [
        "# Check for missing values\n",
        "print(df.isnull().sum())"
      ],
      "metadata": {
        "colab": {
          "base_uri": "https://localhost:8080/"
        },
        "id": "2Hf91zRvPXTU",
        "outputId": "99000fe6-68ff-47d2-f88f-f7af90ee89b4"
      },
      "execution_count": 50,
      "outputs": [
        {
          "output_type": "stream",
          "name": "stdout",
          "text": [
            "Admin_Unit_Code                  0\n",
            "Sub_Unit_Code                  333\n",
            "Site_Name                        0\n",
            "Plot_Name                        0\n",
            "Location_Type                    0\n",
            "Year                             0\n",
            "Date                             0\n",
            "Start_Time                       0\n",
            "End_Time                         0\n",
            "Observer                         0\n",
            "Visit                            0\n",
            "Interval_Length                  0\n",
            "ID_Method                        0\n",
            "Distance                         5\n",
            "Flyover_Observed                 0\n",
            "Sex                            221\n",
            "Common_Name                      0\n",
            "Scientific_Name                  0\n",
            "AcceptedTSN                      1\n",
            "NPSTaxonCode                     0\n",
            "AOU_Code                         0\n",
            "PIF_Watchlist_Status             0\n",
            "Regional_Stewardship_Status      0\n",
            "Temperature                      0\n",
            "Humidity                         0\n",
            "Sky                              0\n",
            "Wind                             0\n",
            "Disturbance                      0\n",
            "Initial_Three_Min_Cnt            0\n",
            "dtype: int64\n"
          ]
        }
      ]
    },
    {
      "cell_type": "code",
      "source": [
        "# converting the date column to datetime format\n",
        "df['Date'] = pd.to_datetime(df['Date'])\n",
        "df['Year'] = df['Date'].dt.year\n",
        "# Calculating  average temperature\n",
        "df['Temperature'] = pd.to_numeric(df['Temperature'], errors='coerce')\n",
        "avg_temp_by_year = df.groupby('Year')['Temperature'].mean().reset_index()\n",
        "\n",
        "print(avg_temp_by_year)"
      ],
      "metadata": {
        "colab": {
          "base_uri": "https://localhost:8080/"
        },
        "id": "XumRn1xoP5YM",
        "outputId": "45969c49-cb4d-4b78-a498-c4d1c8a0f202"
      },
      "execution_count": 54,
      "outputs": [
        {
          "output_type": "stream",
          "name": "stdout",
          "text": [
            "   Year  Temperature\n",
            "0  2018    21.873273\n"
          ]
        }
      ]
    },
    {
      "cell_type": "code",
      "source": [
        "plt.figure(figsize=(10, 6))\n",
        "sns.lineplot(data=avg_temp_by_year, x='Year', y='Temperature', marker='o', color='blue')\n",
        "plt.title(\"Average Temperature by Year\")\n",
        "plt.xlabel(\"Year\")\n",
        "plt.ylabel(\"Average Temperature (°C)\")\n",
        "plt.grid(True)\n",
        "plt.tight_layout()\n",
        "plt.show()"
      ],
      "metadata": {
        "colab": {
          "base_uri": "https://localhost:8080/",
          "height": 607
        },
        "id": "PqJ9xgCWPol8",
        "outputId": "730dd98b-c35f-466c-955f-fec230aa670a"
      },
      "execution_count": 52,
      "outputs": [
        {
          "output_type": "display_data",
          "data": {
            "text/plain": [
              "<Figure size 1000x600 with 1 Axes>"
            ],
            "image/png": "[encoded data removed]"
          },
          "metadata": {}
        }
      ]
    },
    {
      "cell_type": "code",
      "source": [
        "avg_temp_by_year_site = df.groupby(['Year', 'Site_Name'])['Temperature'].mean().reset_index()\n",
        "\n",
        "# Plot: Line plot by site\n",
        "plt.figure(figsize=(12, 6))\n",
        "sns.lineplot(data=avg_temp_by_year_site, x='Year', y='Temperature', hue='Site_Name', marker='o')\n",
        "plt.title(\"Average Temperature by Year and Site\")\n",
        "plt.xlabel(\"Year\")\n",
        "plt.ylabel(\"Average Temperature (°C)\")\n",
        "plt.legend(title='Site Name', bbox_to_anchor=(1.05, 1), loc='upper left')\n",
        "plt.tight_layout()\n",
        "plt.grid(True)\n",
        "plt.show()"
      ],
      "metadata": {
        "colab": {
          "base_uri": "https://localhost:8080/",
          "height": 607
        },
        "id": "qU4f-I01PjOL",
        "outputId": "6455ecd8-fa25-4b19-cd84-7566d749aead"
      },
      "execution_count": 51,
      "outputs": [
        {
          "output_type": "display_data",
          "data": {
            "text/plain": [
              "<Figure size 1200x600 with 1 Axes>"
            ],
            "image/png": "[encoded data removed]"
          },
          "metadata": {}
        }
      ]
    },
    {
      "cell_type": "markdown",
      "source": [
        "# Distance Distribution"
      ],
      "metadata": {
        "id": "5qaU8XjTOvUU"
      }
    },
    {
      "cell_type": "code",
      "source": [
        "distance_df = df.dropna(subset=['Distance'])\n",
        "\n",
        "plt.figure(figsize=(10, 5))\n",
        "sns.countplot(data=distance_df, x='Distance', order=distance_df['Distance'].value_counts().index)\n",
        "plt.title('Distribution of Distance Observations')\n",
        "plt.xlabel('Distance')\n",
        "plt.ylabel('Count')\n",
        "plt.xticks(rotation=45)\n",
        "plt.tight_layout()\n",
        "plt.show()"
      ],
      "metadata": {
        "colab": {
          "base_uri": "https://localhost:8080/",
          "height": 506
        },
        "id": "yzPFO-50_uHE",
        "outputId": "337e751f-8f0f-4afa-f1c3-6f7150eda39d"
      },
      "execution_count": 45,
      "outputs": [
        {
          "output_type": "display_data",
          "data": {
            "text/plain": [
              "<Figure size 1000x500 with 1 Axes>"
            ],
            "image/png": "[encoded data removed]"
          },
          "metadata": {}
        }
      ]
    },
    {
      "cell_type": "markdown",
      "source": [
        "Distance Distribution: Most birds are recorded at certain popular ranges, with some distances being less common."
      ],
      "metadata": {
        "id": "TrYbjp9jQMsU"
      }
    },
    {
      "cell_type": "markdown",
      "source": [
        "# DISTRIBUTION OF DISTURBANCE TYPES"
      ],
      "metadata": {
        "id": "-QxJcyZ2QcZD"
      }
    },
    {
      "cell_type": "code",
      "source": [
        "plt.figure(figsize=(10, 5))\n",
        "sns.countplot(data=df, y='Disturbance', order=df['Disturbance'].value_counts().index)\n",
        "plt.title('Distribution of Disturbance Types')\n",
        "plt.xlabel('Count')\n",
        "plt.ylabel('Disturbance Type')\n",
        "plt.tight_layout()\n",
        "plt.show()"
      ],
      "metadata": {
        "colab": {
          "base_uri": "https://localhost:8080/",
          "height": 507
        },
        "id": "krNeUHH1DYGd",
        "outputId": "c6f3ba9c-a7cc-4ee1-bc61-d3c94f0b01bb"
      },
      "execution_count": 55,
      "outputs": [
        {
          "output_type": "display_data",
          "data": {
            "text/plain": [
              "<Figure size 1000x500 with 1 Axes>"
            ],
            "image/png": "[encoded data removed]"
          },
          "metadata": {}
        }
      ]
    },
    {
      "cell_type": "markdown",
      "source": [
        "\n",
        "Disturbances: Generally minimal impact, though some notable types occur."
      ],
      "metadata": {
        "id": "yCRa9yoXRCYs"
      }
    },
    {
      "cell_type": "markdown",
      "source": [
        " The majority of observations reported \"No effect on count\", but there are several other disturbance types present (e.g., noise, human activity), which could influence bird behavior or detectability."
      ],
      "metadata": {
        "id": "Vv1QoM0mRTTT"
      }
    },
    {
      "cell_type": "markdown",
      "source": [
        "The most common disturbance recorded was “No effect on count”, implying well-controlled survey conditions."
      ],
      "metadata": {
        "id": "m9veesK6ReLj"
      }
    },
    {
      "cell_type": "markdown",
      "source": [
        "# OBSERVER TRENDS OVER THE YEAR"
      ],
      "metadata": {
        "id": "9LutsAWQRnLs"
      }
    },
    {
      "cell_type": "code",
      "source": [
        "\n",
        "# Count total observations per observer\n",
        "observer_counts = df['Observer'].value_counts().reset_index()\n",
        "observer_counts.columns = ['Observer', 'Observation_Count']\n",
        "observer_yearly = df.groupby(['Observer', 'Year']).size().reset_index(name='Observation_Count')\n",
        "\n",
        "# Select top 5 observers\n",
        "top_observers = observer_counts.head(5)['Observer'].tolist()\n",
        "top_obs_yearly = observer_yearly[observer_yearly['Observer'].isin(top_observers)]\n",
        "plt.figure(figsize=(12, 6))\n",
        "sns.lineplot(data=top_obs_yearly, x='Year', y='Observation_Count', hue='Observer', marker='o')\n",
        "plt.title('Observation Trends Over Time for Top Observers')\n",
        "plt.xlabel('Year')\n",
        "plt.ylabel('Number of Observations')\n",
        "plt.legend(title='Observer')\n",
        "plt.tight_layout()\n",
        "plt.show()"
      ],
      "metadata": {
        "colab": {
          "base_uri": "https://localhost:8080/",
          "height": 607
        },
        "id": "HbpeL76HE4Pk",
        "outputId": "64883617-f6a1-4fc2-f2d0-93920859742e"
      },
      "execution_count": 43,
      "outputs": [
        {
          "output_type": "display_data",
          "data": {
            "text/plain": [
              "<Figure size 1200x600 with 1 Axes>"
            ],
            "image/png": "[encoded data removed]"
          },
          "metadata": {}
        }
      ]
    },
    {
      "cell_type": "markdown",
      "source": [
        "Consistency in trained personnel boosts data reliability. Long-term monitoring programs should prioritize observer continuity and training."
      ],
      "metadata": {
        "id": "Ir2nIEc-RsFL"
      }
    },
    {
      "cell_type": "markdown",
      "source": [
        "Stable long-term monitoring protocols are essential for detecting real conservation-relevant trends (e.g., declines or range shifts)."
      ],
      "metadata": {
        "id": "BuTzSqf_SL7r"
      }
    },
    {
      "cell_type": "code",
      "source": [],
      "metadata": {
        "id": "T5d_HN91Sblb"
      },
      "execution_count": null,
      "outputs": []
    }
  ],
  "metadata": {
    "colab": {
      "provenance": [],
      "authorship_tag": "ABX9TyMfG0lQlIsz8+DUkBIBO6VW",
      "include_colab_link": true
    },
    "kernelspec": {
      "display_name": "Python 3",
      "name": "python3"
    },
    "language_info": {
      "name": "python"
    }
  },
  "nbformat": 4,
  "nbformat_minor": 0
}